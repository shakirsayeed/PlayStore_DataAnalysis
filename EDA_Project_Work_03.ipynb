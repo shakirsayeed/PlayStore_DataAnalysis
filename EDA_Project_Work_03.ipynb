{
  "nbformat": 4,
  "nbformat_minor": 0,
  "metadata": {
    "colab": {
      "private_outputs": true,
      "provenance": [],
      "collapsed_sections": [
        "vncDsAP0Gaoa",
        "FJNUwmbgGyua",
        "w6K7xa23Elo4",
        "yQaldy8SH6Dl",
        "PH-0ReGfmX4f",
        "mDgbUHAGgjLW",
        "O_i_v8NEhb9l",
        "HhfV-JJviCcP",
        "Y3lxredqlCYt",
        "3RnN4peoiCZX",
        "x71ZqKXriCWQ",
        "7hBIi_osiCS2",
        "JlHwYmJAmNHm",
        "35m5QtbWiB9F",
        "PoPl-ycgm1ru",
        "H0kj-8xxnORC",
        "nA9Y7ga8ng1Z",
        "PBTbrJXOngz2",
        "u3PMJOP6ngxN",
        "dauF4eBmngu3",
        "bKJF3rekwFvQ",
        "MSa1f5Uengrz",
        "GF8Ens_Soomf",
        "0wOQAZs5pc--",
        "K5QZ13OEpz2H",
        "lQ7QKXXCp7Bj",
        "448CDAPjqfQr",
        "KSlN3yHqYklG",
        "t6dVpIINYklI",
        "ijmpgYnKYklI",
        "-JiQyfWJYklI",
        "EM7whBJCYoAo",
        "fge-S5ZAYoAp",
        "85gYPyotYoAp",
        "RoGjAbkUYoAp",
        "4Of9eVA-YrdM",
        "iky9q4vBYrdO",
        "F6T5p64dYrdO",
        "y-Ehk30pYrdP",
        "bamQiAODYuh1",
        "QHF8YVU7Yuh3",
        "GwzvFGzlYuh3",
        "qYpmQ266Yuh3",
        "OH-pJp9IphqM",
        "bbFf2-_FphqN",
        "_ouA3fa0phqN",
        "Seke61FWphqN",
        "PIIx-8_IphqN",
        "t27r6nlMphqO",
        "r2jJGEOYphqO",
        "b0JNsNcRphqO",
        "BZR9WyysphqO",
        "jj7wYXLtphqO",
        "eZrbJ2SmphqO",
        "rFu4xreNphqO",
        "YJ55k-q6phqO",
        "gCFgpxoyphqP",
        "OVtJsKN_phqQ",
        "lssrdh5qphqQ",
        "U2RJ9gkRphqQ",
        "1M8mcRywphqQ",
        "tgIPom80phqQ",
        "JMzcOPDDphqR",
        "x-EpHcCOp1ci",
        "X_VqEhTip1ck",
        "8zGJKyg5p1ck",
        "PVzmfK_Ep1ck",
        "n3dbpmDWp1ck",
        "ylSl6qgtp1ck",
        "ZWILFDl5p1ck",
        "M7G43BXep1ck",
        "Ag9LCva-p1cl",
        "E6MkPsBcp1cl",
        "2cELzS2fp1cl",
        "3MPXvC8up1cl",
        "NC_X3p0fY2L0",
        "UV0SzAkaZNRQ",
        "YPEH6qLeZNRQ",
        "q29F0dvdveiT",
        "EXh0U9oCveiU",
        "22aHeOlLveiV",
        "JcMwzZxoAimU",
        "8G2x9gOozGDZ",
        "gCX9965dhzqZ",
        "gIfDvo9L0UH2"
      ],
      "include_colab_link": true
    },
    "kernelspec": {
      "name": "python3",
      "display_name": "Python 3"
    },
    "language_info": {
      "name": "python"
    }
  },
  "cells": [
    {
      "cell_type": "markdown",
      "metadata": {
        "id": "view-in-github",
        "colab_type": "text"
      },
      "source": [
        "<a href=\"https://colab.research.google.com/github/shakirsayeed/PlayStore_DataAnalysis/blob/main/EDA_Project_Work_03.ipynb\" target=\"_parent\"><img src=\"https://colab.research.google.com/assets/colab-badge.svg\" alt=\"Open In Colab\"/></a>"
      ]
    },
    {
      "cell_type": "markdown",
      "source": [
        "# **Project Name**    -\n",
        "\n"
      ],
      "metadata": {
        "id": "vncDsAP0Gaoa"
      }
    },
    {
      "cell_type": "markdown",
      "source": [
        "##### **Project Type**    - EDA\n",
        "##### **Contribution**    - Individual\n",
        "##### **Member  -** Syed Shakir Sayeed\n"
      ],
      "metadata": {
        "id": "beRrZCGUAJYm"
      }
    },
    {
      "cell_type": "markdown",
      "source": [
        "# **Project Summary -**"
      ],
      "metadata": {
        "id": "FJNUwmbgGyua"
      }
    },
    {
      "cell_type": "markdown",
      "source": [
        "The \"Play Store App Review Analysis using Exploratory Data Analysis - EDA\" project focuses on extracting valuable insights and patterns from app reviews available on the Google Play Store. The project aims to uncover trends, sentiments, and user feedback related to various mobile applications. By employing exploratory data analysis techniques, the project seeks to provide a comprehensive understanding of user sentiments, popular features, and potential areas for improvement for app developers.\n",
        "Steps Involved in developing the Project:\n",
        "1. Data Collection\n",
        "2. Data Cleaning and Preprocessing\n",
        "3. Implementing Exploratory Data Analysis\n",
        "4. Data Visualization"
      ],
      "metadata": {
        "id": "F6v_1wHtG2nS"
      }
    },
    {
      "cell_type": "markdown",
      "source": [
        "# **GitHub Link -**"
      ],
      "metadata": {
        "id": "w6K7xa23Elo4"
      }
    },
    {
      "cell_type": "markdown",
      "source": [
        "https://github.com/shakirsayeed/PlayStore_DataAnalysis.git"
      ],
      "metadata": {
        "id": "h1o69JH3Eqqn"
      }
    },
    {
      "cell_type": "markdown",
      "source": [
        "# **Problem Statement**\n"
      ],
      "metadata": {
        "id": "yQaldy8SH6Dl"
      }
    },
    {
      "cell_type": "markdown",
      "source": [
        "Explore and analyze the Google Play Store Dataset to discover key factors responsible for app engagement and success .\n"
      ],
      "metadata": {
        "id": "DpeJGUA3kjGy"
      }
    },
    {
      "cell_type": "markdown",
      "source": [
        "#### **Define Your Business Objective?**"
      ],
      "metadata": {
        "id": "PH-0ReGfmX4f"
      }
    },
    {
      "cell_type": "markdown",
      "source": [
        "## <b><i> The main objective of this project is to help app developers and businesses understand what factors make their apps successful. By analyzing the play_store_data and user_review_data datasets, we will identify relevant KPIs (Key Performance Indicators)\n",
        "## <b>This information will be used to provide insights about the data and recommendations on how to improve app engagement, retain app users, increase app revenue, and enhance marketing strategies.</b>\n",
        "## <b> My mission is to empower businesses in developing app solutions that ensure customer satisfaction and contribute to business growth. </i></b>"
      ],
      "metadata": {
        "id": "PhDvGCAqmjP1"
      }
    },
    {
      "cell_type": "markdown",
      "source": [
        "# **General Guidelines** : -  "
      ],
      "metadata": {
        "id": "mDgbUHAGgjLW"
      }
    },
    {
      "cell_type": "markdown",
      "source": [
        "1.   Well-structured, formatted, and commented code is required.\n",
        "2.   Exception Handling, Production Grade Code & Deployment Ready Code will be a plus. Those students will be awarded some additional credits.\n",
        "     \n",
        "     The additional credits will have advantages over other students during Star Student selection.\n",
        "       \n",
        "             [ Note: - Deployment Ready Code is defined as, the whole .ipynb notebook should be executable in one go\n",
        "                       without a single error logged. ]\n",
        "\n",
        "3.   Each and every logic should have proper comments.\n",
        "4. You may add as many number of charts you want. Make Sure for each and every chart the following format should be answered.\n",
        "        \n",
        "\n",
        "```\n",
        "# Chart visualization code\n",
        "```\n",
        "            \n",
        "\n",
        "*   Why did you pick the specific chart?\n",
        "*   What is/are the insight(s) found from the chart?\n",
        "* Will the gained insights help creating a positive business impact?\n",
        "Are there any insights that lead to negative growth? Justify with specific reason.\n",
        "\n",
        "5. You have to create at least 20 logical & meaningful charts having important insights.\n",
        "\n",
        "\n",
        "[ Hints : - Do the Vizualization in  a structured way while following \"UBM\" Rule.\n",
        "\n",
        "U - Univariate Analysis,\n",
        "\n",
        "B - Bivariate Analysis (Numerical - Categorical, Numerical - Numerical, Categorical - Categorical)\n",
        "\n",
        "M - Multivariate Analysis\n",
        " ]\n",
        "\n",
        "\n",
        "\n"
      ],
      "metadata": {
        "id": "ZrxVaUj-hHfC"
      }
    },
    {
      "cell_type": "markdown",
      "source": [
        "# ***Let's Begin !***"
      ],
      "metadata": {
        "id": "O_i_v8NEhb9l"
      }
    },
    {
      "cell_type": "markdown",
      "source": [
        "## ***1. Know Your Data***"
      ],
      "metadata": {
        "id": "HhfV-JJviCcP"
      }
    },
    {
      "cell_type": "markdown",
      "source": [
        "### Import Libraries"
      ],
      "metadata": {
        "id": "Y3lxredqlCYt"
      }
    },
    {
      "cell_type": "code",
      "source": [
        "# Import Libraries\n",
        "import pandas as pd # used for Data Processing\n",
        "import numpy as np # used to access builtin Numerical Methods and Functions\n",
        "import matplotlib.pyplot as plt # Used for Data Visualization\n",
        "import seaborn as sns # Used for Data Visualization\n",
        "from datetime import datetime"
      ],
      "metadata": {
        "id": "M8Vqi-pPk-HR"
      },
      "execution_count": null,
      "outputs": []
    },
    {
      "cell_type": "markdown",
      "source": [
        "# **1st Step: Data Cleaning on Play Store  Dataset**"
      ],
      "metadata": {
        "id": "PcSgmK_s4-NL"
      }
    },
    {
      "cell_type": "markdown",
      "source": [
        "### Dataset Loading"
      ],
      "metadata": {
        "id": "3RnN4peoiCZX"
      }
    },
    {
      "cell_type": "code",
      "source": [
        "# Load Dataset\n",
        "from google.colab import drive\n",
        "drive.mount('/content/drive')\n"
      ],
      "metadata": {
        "id": "4CkvbW_SlZ_R"
      },
      "execution_count": null,
      "outputs": []
    },
    {
      "cell_type": "code",
      "source": [
        "psd_path=\"/content/drive/MyDrive/DS_Notes/EDA_Project/Dataset/Play_Store_Data.csv\"\n",
        "\n",
        "psd_df=pd.read_csv(psd_path)\n",
        "\n"
      ],
      "metadata": {
        "id": "kDrhBUXVOprw"
      },
      "execution_count": null,
      "outputs": []
    },
    {
      "cell_type": "markdown",
      "source": [],
      "metadata": {
        "id": "z9J_MMb0_okE"
      }
    },
    {
      "cell_type": "markdown",
      "source": [
        "### Dataset First View"
      ],
      "metadata": {
        "id": "x71ZqKXriCWQ"
      }
    },
    {
      "cell_type": "code",
      "source": [
        "# Dataset First Look of PlayStore Data\n",
        "dataview_playstore= pd.concat([psd_df.head(),psd_df.tail()])\n",
        "dataview_playstore"
      ],
      "metadata": {
        "id": "LWNFOSvLl09H"
      },
      "execution_count": null,
      "outputs": []
    },
    {
      "cell_type": "markdown",
      "source": [
        "### Dataset Rows & Columns count"
      ],
      "metadata": {
        "id": "7hBIi_osiCS2"
      }
    },
    {
      "cell_type": "code",
      "source": [
        "# Dataset Rows & Columns count of PlayStore Data\n",
        "print(psd_df.columns)\n",
        "rows=psd_df.shape[0]\n",
        "cols= psd_df.shape[1]\n",
        "print(f\"The number of rows are {rows} and columns are {cols}\")"
      ],
      "metadata": {
        "id": "Kllu7SJgmLij"
      },
      "execution_count": null,
      "outputs": []
    },
    {
      "cell_type": "markdown",
      "source": [
        "### Dataset Information"
      ],
      "metadata": {
        "id": "JlHwYmJAmNHm"
      }
    },
    {
      "cell_type": "code",
      "source": [
        "# Dataset Info PlayStore Data\n",
        "print(\"=*=*=*=*=*=*=*=*=*Data information=*=*=*=*=*=*=*=*=*=*=*=*=\")\n",
        "psd_df.info()\n",
        "print(\"=*=*=*=*=*=*=*=*=*Data Describe=*=*=*=*=*=*=*=*=*=*=*=*=\")\n",
        "psd_df.describe(include='all')"
      ],
      "metadata": {
        "id": "e9hRXRi6meOf"
      },
      "execution_count": null,
      "outputs": []
    },
    {
      "cell_type": "markdown",
      "source": [
        "#### Duplicate Values"
      ],
      "metadata": {
        "id": "35m5QtbWiB9F"
      }
    },
    {
      "cell_type": "code",
      "source": [
        "duplicate_values=len(psd_df[psd_df.duplicated])\n",
        "print(\"The number of Duplicated Values are\",duplicate_values)"
      ],
      "metadata": {
        "id": "1sLdpKYkmox0"
      },
      "execution_count": null,
      "outputs": []
    },
    {
      "cell_type": "markdown",
      "source": [
        "#### Missing Values/Null Values"
      ],
      "metadata": {
        "id": "PoPl-ycgm1ru"
      }
    },
    {
      "cell_type": "code",
      "source": [
        "# Missing Values/Null Values Count PlayStore Data\n",
        "print(psd_df.isnull().sum())"
      ],
      "metadata": {
        "id": "GgHWkxvamxVg"
      },
      "execution_count": null,
      "outputs": []
    },
    {
      "cell_type": "code",
      "source": [
        "# Visualizing the missing values\n",
        "# Create the bar plot\n",
        "missing = psd_df.isnull()\n",
        "missing_sum = missing.sum().sort_values(ascending=False)\n",
        "\n",
        "missing_sum.plot(kind='bar')\n",
        "plt.ylabel('Number of Missing Values')\n",
        "plt.xlabel('Columns Name')\n",
        "plt.title(' Missing Values by Column')\n",
        "plt.xticks(rotation=90)  # Rotate x-axis labels for better readability if needed\n",
        "plt.tight_layout()  # Ensures the labels fit within the plot area\n",
        "plt.show()"
      ],
      "metadata": {
        "id": "JQalDNsJg_PK"
      },
      "execution_count": null,
      "outputs": []
    },
    {
      "cell_type": "markdown",
      "source": [
        "### What did you know about your dataset?"
      ],
      "metadata": {
        "id": "H0kj-8xxnORC"
      }
    },
    {
      "cell_type": "markdown",
      "source": [
        "In the bove dataset we have seen that\n",
        "\n",
        "\n",
        "1.   Rating column is having 1474 missing values\n",
        "2.   Type is having 1 missing values\n",
        "3.   Content Rtingis having 1 missing values\n",
        "4.   Current Ver is having 8 missing values\n",
        "5.   Android Ver is having 3 missing values\n",
        "\n",
        "So, here  in these rows of datasets we have missing values in these columns, in order to analyze the dataset, it is important to handle the missing values.\n",
        "\n"
      ],
      "metadata": {
        "id": "gfoNAAC-nUe_"
      }
    },
    {
      "cell_type": "markdown",
      "source": [
        "## ***2. Understanding Your Variables***"
      ],
      "metadata": {
        "id": "nA9Y7ga8ng1Z"
      }
    },
    {
      "cell_type": "code",
      "source": [
        "# Dataset Columns of PlayStore Data\n",
        "psd_df.columns"
      ],
      "metadata": {
        "id": "j7xfkqrt5Ag5"
      },
      "execution_count": null,
      "outputs": []
    },
    {
      "cell_type": "markdown",
      "source": [
        "\n",
        " The 13 columns in the playstore dataset are identified as below:\n",
        "1. **App** - It tells us about the name of the application with a short description.\n",
        "2. **Category** - It gives the category to the application.\n",
        "3. **Rating** - It contains the average rating of the respective app received from its users.\n",
        "4. **Reviews** - It tells us about the total number of users who have given a review for the application.\n",
        "5. **Size** - It tells us about the size being occupied by the application on the mobile phone.\n",
        "6. **Installs** - It tells us about the total number of downloads for an application.\n",
        "7. **Type** - IIt states whether an app is free to use or is it a paid.\n",
        "8. **Price** - It gives the price payable to install the app. For free type apps, the price is zero.\n",
        "9. **Content Rating** - It states whether or not an app is suitable for all age groups or not.\n",
        "10. **Genres** - It tells us about the various other categories to which an application belongs to.\n",
        "11. **Last Updated** - It tells us about the when the application was updated.\n",
        "12. **Current Ver** - It tells us about the current version of the android application.\n",
        "13.**Android Ver** - It tells us about the android version which support the application on its platform."
      ],
      "metadata": {
        "id": "watyi4xNjanr"
      }
    },
    {
      "cell_type": "code",
      "source": [
        "# Dataset Describe\n",
        "psd_df.describe()\n",
        "# psd_df.describe(include='all')# It is used to display  statistical information of all the columns"
      ],
      "metadata": {
        "id": "DnOaZdaE5Q5t"
      },
      "execution_count": null,
      "outputs": []
    },
    {
      "cell_type": "markdown",
      "source": [
        "### Variables Description"
      ],
      "metadata": {
        "id": "PBTbrJXOngz2"
      }
    },
    {
      "cell_type": "markdown",
      "source": [
        "Here, it will show the short description of Statistical Information\n",
        "\n",
        "\n",
        "*   **Count:** The number of non null values are 9367\n",
        "*   **Mean:**The mean value of column is 4.193338\n",
        "*   **Standard Deviation:** Th std of the column is 0.537431\n",
        "*   **Minimum Value:** The min value of column is 1.0000000\n",
        "*   **25% value:** The 25th percentile of the column is 4.0000000\n",
        "*   **50% value:**The 50th percentile of the column is 4.3000000\n",
        "*   **75% value:**The 75th percentile of the column is 4.5000000\n",
        "*   **Maximum Value:**The max value of column is 19.0000000\n"
      ],
      "metadata": {
        "id": "aJV4KIxSnxay"
      }
    },
    {
      "cell_type": "markdown",
      "source": [
        "### Check Unique Values for each variable."
      ],
      "metadata": {
        "id": "u3PMJOP6ngxN"
      }
    },
    {
      "cell_type": "code",
      "source": [
        "# Check Unique Values for each variable.\n",
        "for i in psd_df.columns.to_list():\n",
        "  print(\"Unique values in\" ,i, \"is\",psd_df[i].nunique())"
      ],
      "metadata": {
        "id": "zms12Yq5n-jE"
      },
      "execution_count": null,
      "outputs": []
    },
    {
      "cell_type": "markdown",
      "source": [
        "In above unique values are more in App column which is around 9660"
      ],
      "metadata": {
        "id": "xWYIsKNbsvwR"
      }
    },
    {
      "cell_type": "markdown",
      "source": [
        "## 3. ***Data Wrangling***"
      ],
      "metadata": {
        "id": "dauF4eBmngu3"
      }
    },
    {
      "cell_type": "markdown",
      "source": [
        "### Data Wrangling Code"
      ],
      "metadata": {
        "id": "bKJF3rekwFvQ"
      }
    },
    {
      "cell_type": "code",
      "source": [
        "# Write your code to make your dataset analysis ready.\n",
        "# Dataset Information about various attributes of Dataset\n",
        "def Playstore_data():\n",
        "  temp=pd.DataFrame(index=psd_df.columns)\n",
        "  temp['Datatypes']=psd_df.dtypes\n",
        "  temp['Not Null Values']=psd_df.count()\n",
        "  temp['Null Values']=psd_df.isnull().sum()\n",
        "  temp['% ratio of Null Values']=psd_df.isnull().mean()\n",
        "  temp['Unique Values']=psd_df.nunique()\n",
        "  temp[\"Duplicate Values\"]=psd_df.duplicated().sum()\n",
        "  return temp\n",
        "Playstore_data()\n"
      ],
      "metadata": {
        "id": "wk-9a2fpoLcV"
      },
      "execution_count": null,
      "outputs": []
    },
    {
      "cell_type": "code",
      "source": [
        "psd_df.boxplot()"
      ],
      "metadata": {
        "id": "rjtrJkwQAmCN"
      },
      "execution_count": null,
      "outputs": []
    },
    {
      "cell_type": "markdown",
      "source": [
        "Here Rating min value is around 3.0 and Max value is 5.0, but we can see in the boxplot their is an outlier which exceeds the Max value"
      ],
      "metadata": {
        "id": "GAPOIW06Dde4"
      }
    },
    {
      "cell_type": "code",
      "source": [
        "psd_df[psd_df['Rating']> 5]"
      ],
      "metadata": {
        "id": "4MBQ3ROgCHvw"
      },
      "execution_count": null,
      "outputs": []
    },
    {
      "cell_type": "markdown",
      "source": [
        "**There is some problem in above row**\n",
        "1. It is having Rating 19.0\n",
        "2. NaN values in Content Rating and Android Ver.\n",
        "\n",
        "So, here we are droping this row"
      ],
      "metadata": {
        "id": "jm7qs-jODBuK"
      }
    },
    {
      "cell_type": "code",
      "source": [
        "psd_df.drop(10472,inplace=True)"
      ],
      "metadata": {
        "id": "qNfDNWDlE7t1"
      },
      "execution_count": null,
      "outputs": []
    },
    {
      "cell_type": "markdown",
      "source": [
        "Now we are checking whether it is removed or not"
      ],
      "metadata": {
        "id": "v0gE7TGEFq13"
      }
    },
    {
      "cell_type": "code",
      "source": [
        "psd_df.boxplot()"
      ],
      "metadata": {
        "id": "Vtsg_YiZF08V"
      },
      "execution_count": null,
      "outputs": []
    },
    {
      "cell_type": "markdown",
      "source": [
        "Now, in this dataset still we have 1474 Null values in the Rating column. So here we are finding the Mean and Median of that column to fix it"
      ],
      "metadata": {
        "id": "elhfbmsVHBgl"
      }
    },
    {
      "cell_type": "code",
      "source": [
        "# Finding Mean\n",
        "rating_mean= psd_df['Rating'].mean()\n",
        "print(f\"Mean value of Rating is {rating_mean}\")\n",
        "# Finding Median\n",
        "rating_median= psd_df['Rating'].median()\n",
        "print(f\"Median value of Rating is {rating_median}\")"
      ],
      "metadata": {
        "id": "ScFeFLKkHrq7"
      },
      "execution_count": null,
      "outputs": []
    },
    {
      "cell_type": "markdown",
      "source": [
        "Here in above :\n",
        "1.  Mean value is approx to 4.2\n",
        "2.  Median value is  4.3\n",
        "\n",
        "Their is only a minute difference betweeen Mean and Median\n",
        "So here we replace all Null values with Median, 50% of Apps are having 4.3 and above Rating\n"
      ],
      "metadata": {
        "id": "6EzgVY0NI2A1"
      }
    },
    {
      "cell_type": "code",
      "source": [
        "psd_df['Rating'].fillna(value=rating_median,inplace=True)"
      ],
      "metadata": {
        "id": "-AtSc2phKIvJ"
      },
      "execution_count": null,
      "outputs": []
    },
    {
      "cell_type": "code",
      "source": [
        "# Here, checking the null values are filled or not\n",
        "psd_df.isnull().sum()"
      ],
      "metadata": {
        "id": "5jvH5hDgKxbQ"
      },
      "execution_count": null,
      "outputs": []
    },
    {
      "cell_type": "markdown",
      "source": [],
      "metadata": {
        "id": "BO9ZSPtnE1YV"
      }
    },
    {
      "cell_type": "markdown",
      "source": [
        "Now, there are still some problemsin the columns that we have to fix\n",
        "\n",
        "*   The Type has 1 NaN value.\n",
        "*   The Current Ver contains 8 NaN values.\n",
        "*   The Android Ver contains 2 NaN values."
      ],
      "metadata": {
        "id": "Xf4AUuWbvpmC"
      }
    },
    {
      "cell_type": "markdown",
      "source": [
        "# **Replacing Type NaN Values**"
      ],
      "metadata": {
        "id": "vhJrFWGVzP2j"
      }
    },
    {
      "cell_type": "code",
      "source": [
        "# Here we are checking Nan values in Type column\n",
        "psd_df[psd_df['Type'].isnull()]"
      ],
      "metadata": {
        "id": "tWOVfCJiv5nU"
      },
      "execution_count": null,
      "outputs": []
    },
    {
      "cell_type": "markdown",
      "source": [
        "In above, we can see Price is 0, so it is a Free App. So, we we replace NaN with Free"
      ],
      "metadata": {
        "id": "GswtNpSZwa7G"
      }
    },
    {
      "cell_type": "code",
      "source": [
        "# Checking How many Apps are Free and Paid\n",
        "psd_df['Type'].value_counts()"
      ],
      "metadata": {
        "id": "JkNLeHquxCKo"
      },
      "execution_count": null,
      "outputs": []
    },
    {
      "cell_type": "code",
      "source": [
        "# Replacing NaN with Free\n",
        "psd_df.loc[9148,'Type']='Free'"
      ],
      "metadata": {
        "id": "dQGIAo8pxxy6"
      },
      "execution_count": null,
      "outputs": []
    },
    {
      "cell_type": "code",
      "source": [
        "# Now, We are checking is it replaced with Free or not\n",
        "psd_df[psd_df['Type'].isnull()]"
      ],
      "metadata": {
        "id": "4m0pnzmEyfSd"
      },
      "execution_count": null,
      "outputs": []
    },
    {
      "cell_type": "markdown",
      "source": [
        "# **Replacing Current Ver NaN Values**"
      ],
      "metadata": {
        "id": "xfqLtuxszc2e"
      }
    },
    {
      "cell_type": "code",
      "source": [
        "# Here we are checking Nan values in Current Ver column\n",
        "psd_df[psd_df['Current Ver'].isnull()]"
      ],
      "metadata": {
        "id": "8yh_hxFnzwx-"
      },
      "execution_count": null,
      "outputs": []
    },
    {
      "cell_type": "markdown",
      "source": [
        "We are having 8 Nan Values, so we are dropping all 8 Nan values"
      ],
      "metadata": {
        "id": "TEifuGITz--N"
      }
    },
    {
      "cell_type": "code",
      "source": [
        "# Dropping all 8 Nan values fro Current Ver column\n",
        "psd_df.drop([15,1553,6322,6803,7333,7407,7730,10342],axis=0,inplace=True)"
      ],
      "metadata": {
        "id": "3eSs-lKZ0bkG"
      },
      "execution_count": null,
      "outputs": []
    },
    {
      "cell_type": "code",
      "source": [
        "# Now, We are checking Whether the rows have been dropped or not\n",
        "psd_df[psd_df['Current Ver'].isnull()]"
      ],
      "metadata": {
        "id": "WPDGj6s21wXN"
      },
      "execution_count": null,
      "outputs": []
    },
    {
      "cell_type": "markdown",
      "source": [
        "# **Replacing Android Ver NaN Values**"
      ],
      "metadata": {
        "id": "6OYbTOY42GSU"
      }
    },
    {
      "cell_type": "code",
      "source": [
        "# Here we are checking Nan values in Android  Ver column\n",
        "psd_df[psd_df['Android Ver'].isnull()]"
      ],
      "metadata": {
        "id": "RxJLQwy92O_z"
      },
      "execution_count": null,
      "outputs": []
    },
    {
      "cell_type": "markdown",
      "source": [
        "Here, we have 2 Nan values so we are dropping 2 Nan values as well"
      ],
      "metadata": {
        "id": "qS-GtOSQ2nQW"
      }
    },
    {
      "cell_type": "code",
      "source": [
        "# Dropping 2 Nan values from Android Ver column\n",
        "psd_df.drop([4453,4490],axis=0,inplace=True)"
      ],
      "metadata": {
        "id": "CC46TKdK26B9"
      },
      "execution_count": null,
      "outputs": []
    },
    {
      "cell_type": "code",
      "source": [
        "# Here we are checking Nan values in Android  Ver are droped or not\n",
        "psd_df[psd_df['Android Ver'].isnull()]"
      ],
      "metadata": {
        "id": "WEXfwJdh3OXo"
      },
      "execution_count": null,
      "outputs": []
    },
    {
      "cell_type": "markdown",
      "source": [
        "## **Now its the Time to Handle all the Data Types for Every Column**"
      ],
      "metadata": {
        "id": "g9TzBPCd3c6d"
      }
    },
    {
      "cell_type": "code",
      "source": [
        "psd_df['Size'].value_counts()"
      ],
      "metadata": {
        "id": "l1heDJg85Wa8"
      },
      "execution_count": null,
      "outputs": []
    },
    {
      "cell_type": "markdown",
      "source": [
        "**The Size column has different Uniyts**\n",
        "\n",
        "1. 'K' for KB\n",
        "2. 'M' for MB"
      ],
      "metadata": {
        "id": "KH188nOo7T0K"
      }
    },
    {
      "cell_type": "code",
      "source": [
        "# Checking datatype of Price\n",
        "psd_df['Price'].value_counts()"
      ],
      "metadata": {
        "id": "DwLtls12r6j7"
      },
      "execution_count": null,
      "outputs": []
    },
    {
      "cell_type": "markdown",
      "source": [
        "Here, $ symbol in Price will create a problem ,so we remove it"
      ],
      "metadata": {
        "id": "ZcYR1L91y4zf"
      }
    },
    {
      "cell_type": "code",
      "source": [
        "# We are removing the $ symbol\n",
        "def price(p):\n",
        "  if type(p)==str and '$' in p:\n",
        "    p=p.replace('$', '')\n",
        "  return p\n"
      ],
      "metadata": {
        "id": "6l9NWWepzLFx"
      },
      "execution_count": null,
      "outputs": []
    },
    {
      "cell_type": "code",
      "source": [
        "psd_df['Price']=psd_df['Price'].apply(lambda x: price(x))\n",
        "psd_df['Price']"
      ],
      "metadata": {
        "id": "8OF2KtMnCa9X"
      },
      "execution_count": null,
      "outputs": []
    },
    {
      "cell_type": "code",
      "source": [
        "# Checking datatype of Installs\n",
        "psd_df['Installs'].value_counts()"
      ],
      "metadata": {
        "id": "9JSAwHba1kw7"
      },
      "execution_count": null,
      "outputs": []
    },
    {
      "cell_type": "markdown",
      "source": [
        "Here, in Installs we need to remove (,) and (+) sign\n"
      ],
      "metadata": {
        "id": "fnMRS2033z33"
      }
    },
    {
      "cell_type": "code",
      "source": [
        "# We are removing the comma , and + sign fro Installs column\n",
        "def comma_plus(val):\n",
        "  '''\n",
        "  This function drops the + symbol if present and returns the value with int datatype.\n",
        "  '''\n",
        "  if '+' and ',' in val:\n",
        "    new=int(val[:-1].replace(',',''))\n",
        "    return new\n",
        "  elif '+' in val:\n",
        "    new1=int(val[:-1])\n",
        "    return new1\n",
        "  else:\n",
        "    return int(val)\n"
      ],
      "metadata": {
        "id": "KvE1db8e4JV4"
      },
      "execution_count": null,
      "outputs": []
    },
    {
      "cell_type": "code",
      "source": [
        "psd_df['Installs']=psd_df['Installs'].apply(lambda x: comma_plus(x))\n",
        "psd_df.head(5)"
      ],
      "metadata": {
        "id": "9cQPMbaXBOXl"
      },
      "execution_count": null,
      "outputs": []
    },
    {
      "cell_type": "code",
      "source": [
        "# Now we're converting Size from KB to MB\n",
        "# def convertKB_MB(val):\n",
        "#   '''\n",
        "#   This function converts all the valid entries in KB to MB and returns the result in float datatype.\n",
        "#   '''\n",
        "#   try:\n",
        "#     if 'M' in val:\n",
        "#       return float(val[:-1])\n",
        "#     elif 'k' in val:\n",
        "#       return round(float(val[:-1])/1024, 4)\n",
        "#     else:\n",
        "#       return val\n",
        "#   except:\n",
        "#     return val\n",
        "\n",
        "def clean_size(x):\n",
        "    if 'Varies with device' in str(x):\n",
        "        return np.nan\n",
        "    elif 'k' in str(x):\n",
        "        return float(str(x).replace('k', '')) / 1024\n",
        "    else:\n",
        "        return float(str(x).replace('M', ''))\n"
      ],
      "metadata": {
        "id": "96g_LWNJ5TNa"
      },
      "execution_count": null,
      "outputs": []
    },
    {
      "cell_type": "code",
      "source": [
        "psd_df['Size']=psd_df['Size'].apply(clean_size)\n",
        "psd_df.head()"
      ],
      "metadata": {
        "id": "KfHmBP7l0Bfx"
      },
      "execution_count": null,
      "outputs": []
    },
    {
      "cell_type": "markdown",
      "source": [
        "# **Here, We are replacing Size \"Varies with Device\" with NaN Values**"
      ],
      "metadata": {
        "id": "UP9OoDRUcyzT"
      }
    },
    {
      "cell_type": "code",
      "source": [
        "psd_df[psd_df['Size']=='Varies with device']"
      ],
      "metadata": {
        "id": "qoSQvkoWefVr"
      },
      "execution_count": null,
      "outputs": []
    },
    {
      "cell_type": "code",
      "source": [
        "psd_df['Size']=psd_df['Size'].apply(lambda x: str(x).replace('Varies with device','NaN') if 'Varies with device' in str(x) else x)\n",
        "psd_df[psd_df['Size']=='NaN']"
      ],
      "metadata": {
        "id": "C04roQF_eOsF"
      },
      "execution_count": null,
      "outputs": []
    },
    {
      "cell_type": "markdown",
      "source": [
        "# **Removing Duplicate Values**"
      ],
      "metadata": {
        "id": "Oq3UMZ44mXNH"
      }
    },
    {
      "cell_type": "code",
      "source": [
        "# Handling  Duplicate  data\n",
        "psd_df.head()"
      ],
      "metadata": {
        "id": "XROuxR8zm0EJ"
      },
      "execution_count": null,
      "outputs": []
    },
    {
      "cell_type": "code",
      "source": [
        "psd_df['App'].value_counts()"
      ],
      "metadata": {
        "id": "wpHafWJ0qncF"
      },
      "execution_count": null,
      "outputs": []
    },
    {
      "cell_type": "markdown",
      "source": [
        "Here we have found ROBOLOX has duplicated 9 times, and similarly other apps are also duplicated"
      ],
      "metadata": {
        "id": "a1X9_nYhuwkH"
      }
    },
    {
      "cell_type": "code",
      "source": [
        "psd_df[psd_df['App']=='ROBLOX']"
      ],
      "metadata": {
        "id": "zfYkmD8Bqydy"
      },
      "execution_count": null,
      "outputs": []
    },
    {
      "cell_type": "code",
      "source": [
        "psd_df[psd_df.duplicated()]"
      ],
      "metadata": {
        "id": "tN1GpaPptdYA"
      },
      "execution_count": null,
      "outputs": []
    },
    {
      "cell_type": "code",
      "source": [
        "# We are dropping all the duplicate values\n",
        "psd_df.drop_duplicates(subset='App',inplace=True)\n",
        "psd_df.shape"
      ],
      "metadata": {
        "id": "TjFzxKMZvXeU"
      },
      "execution_count": null,
      "outputs": []
    },
    {
      "cell_type": "code",
      "source": [
        "# Checking whether duplicates are removed from App column\n",
        "psd_df[psd_df['App']=='ROBLOX']\n",
        "psd_df.shape"
      ],
      "metadata": {
        "id": "0SvODE6RwBoI"
      },
      "execution_count": null,
      "outputs": []
    },
    {
      "cell_type": "markdown",
      "source": [
        "**After Dropping the values from App Column, the total number of rows dropped to  9649**"
      ],
      "metadata": {
        "id": "sBHa7jGdwvSA"
      }
    },
    {
      "cell_type": "markdown",
      "source": [],
      "metadata": {
        "id": "aVbl_ayTmtQn"
      }
    },
    {
      "cell_type": "code",
      "source": [
        "psd_df['App'].duplicated().sum()"
      ],
      "metadata": {
        "id": "FZJFOc3GACPg"
      },
      "execution_count": null,
      "outputs": []
    },
    {
      "cell_type": "code",
      "source": [
        "psd_df.shape"
      ],
      "metadata": {
        "id": "jCAObOGJAc0M"
      },
      "execution_count": null,
      "outputs": []
    },
    {
      "cell_type": "code",
      "source": [
        "psd_df.describe()"
      ],
      "metadata": {
        "id": "IE8E51tJNWno"
      },
      "execution_count": null,
      "outputs": []
    },
    {
      "cell_type": "markdown",
      "source": [],
      "metadata": {
        "id": "E-cVWdxiA4ml"
      }
    },
    {
      "cell_type": "markdown",
      "source": [
        "## **Summary**\n",
        "\n",
        "*   All duplicates values removed from dataset.\n",
        "*   All null values are removed or replaced.  \n",
        "*   Converted the datatypes of the particular column and also removed all the unwanted characters."
      ],
      "metadata": {
        "id": "aaEwi9gMATTU"
      }
    },
    {
      "cell_type": "markdown",
      "source": [
        "# **2nd Step: Data Cleaning on User Reviews Dataset**"
      ],
      "metadata": {
        "id": "HNyQUdm0BDNI"
      }
    },
    {
      "cell_type": "code",
      "source": [
        "urd_path=\"/content/drive/MyDrive/DS_Notes/EDA_Project/Dataset/User_Reviews.csv\"\n",
        "urd_df=pd.read_csv(urd_path)"
      ],
      "metadata": {
        "id": "97bKVhNkEHAf"
      },
      "execution_count": null,
      "outputs": []
    },
    {
      "cell_type": "code",
      "source": [
        "# Dataset First Look of userReview Data\n",
        "dataview_user_review= pd.concat([urd_df.head(),urd_df.tail()])\n",
        "dataview_user_review"
      ],
      "metadata": {
        "id": "-iRoZvoaEvbX"
      },
      "execution_count": null,
      "outputs": []
    },
    {
      "cell_type": "markdown",
      "source": [
        "**No of Rows and Columns in Dataset of User Review**"
      ],
      "metadata": {
        "id": "XuEAGtBfFoSb"
      }
    },
    {
      "cell_type": "code",
      "source": [
        "# Dataset Rows & Columns count of UserReview Data\n",
        "print(urd_df.columns)\n",
        "rows=urd_df.shape[0]\n",
        "cols= urd_df.shape[1]\n",
        "print(f\"The number of rows are {rows} and columns are {cols}\")"
      ],
      "metadata": {
        "id": "6eNuLYZDE_PX"
      },
      "execution_count": null,
      "outputs": []
    },
    {
      "cell_type": "markdown",
      "source": [
        "**Dataset Information of User Review**"
      ],
      "metadata": {
        "id": "iWTzYi0EFcgC"
      }
    },
    {
      "cell_type": "code",
      "source": [
        "# Dataset Info User Review Data\n",
        "print(\"=*=*=*=*=*=*=*=*=*Data information=*=*=*=*=*=*=*=*=*=*=*=*=\")\n",
        "urd_df.info()\n",
        "print(\"=*=*=*=*=*=*=*=*=*Data Describe=*=*=*=*=*=*=*=*=*=*=*=*=\")\n",
        "urd_df.describe(include='all')"
      ],
      "metadata": {
        "id": "bDiYLM0gFZYf"
      },
      "execution_count": null,
      "outputs": []
    },
    {
      "cell_type": "markdown",
      "source": [
        "**Duplicated Values**"
      ],
      "metadata": {
        "id": "TaLgeftpHLBL"
      }
    },
    {
      "cell_type": "code",
      "source": [
        "duplicate_values=len(urd_df[urd_df.duplicated])\n",
        "print(\"The number of Duplicated Values are\",duplicate_values)"
      ],
      "metadata": {
        "id": "QwA5YR72HRh2"
      },
      "execution_count": null,
      "outputs": []
    },
    {
      "cell_type": "markdown",
      "source": [
        "**Missing or Null Values**"
      ],
      "metadata": {
        "id": "7x_w68juHyEx"
      }
    },
    {
      "cell_type": "code",
      "source": [
        "# Missing Values/Null Values Count User Review Data\n",
        "print(urd_df.isnull().sum())"
      ],
      "metadata": {
        "id": "4sYIRQ9LH4b-"
      },
      "execution_count": null,
      "outputs": []
    },
    {
      "cell_type": "code",
      "source": [
        "# Visualizing the missing values\n",
        "# Create the bar plot\n",
        "missing = urd_df.isnull()\n",
        "missing_sum = missing.sum().sort_values(ascending=False)\n",
        "\n",
        "missing_sum.plot(kind='bar')\n",
        "plt.ylabel('Number of Missing Values')\n",
        "plt.xlabel('Columns Name')\n",
        "plt.title(' Missing Values by Column')\n",
        "plt.xticks(rotation=90)  # Rotate x-axis labels for better readability if needed\n",
        "plt.tight_layout()  # Ensures the labels fit within the plot area\n",
        "plt.show()"
      ],
      "metadata": {
        "id": "MRMJEhSoIOPq"
      },
      "execution_count": null,
      "outputs": []
    },
    {
      "cell_type": "markdown",
      "source": [
        "In the bove dataset we have seen that\n",
        "\n",
        "1. Translated_Review column is having 26868 missing values\n",
        "2. Sentiment is having 26863 missing values\n",
        "3. Sentiment_Polarity is having 26863 missing values\n",
        "4. Sentiment_Subjectivity is having 26863 missing values\n",
        "\n",
        "So, here in these rows of datasets we have missing values in these columns, in order to analyze the dataset, it is important to handle the missing values."
      ],
      "metadata": {
        "id": "rZUheHeDIi5-"
      }
    },
    {
      "cell_type": "markdown",
      "source": [
        "# The dataset has 5 columns identified as below:\n",
        "\n",
        "\n",
        "1.   **App:** Title of the application.\n",
        "2.   **Translated_Review:** It contains the English translation of the review.\n",
        "3.   **Sentiment:** It gives the emotion like ‘Positive’, ‘Negative’, or ‘Neutral’.\n",
        "4.   **Sentiment_Polarity:** It gives the polarity of the review. Its range is [-1,1], where 1 means ‘Positive statement’ and -1 means a ‘Negative statement’.\n",
        "5.    **Sentiment_Subjectivity:** This value gives how close a reviewers opinion is to the opinion of the general public. Its range is[0,1]."
      ],
      "metadata": {
        "id": "5n1dofp5KBki"
      }
    },
    {
      "cell_type": "code",
      "source": [
        "# Dataset Describe\n",
        "urd_df.describe()\n",
        "# psd_df.describe(include='all')# It is used to display  statistical information of all the columns"
      ],
      "metadata": {
        "id": "oGITyuSpLHM3"
      },
      "execution_count": null,
      "outputs": []
    },
    {
      "cell_type": "markdown",
      "source": [
        "Checking Unique Values"
      ],
      "metadata": {
        "id": "yMgHA7CILsq-"
      }
    },
    {
      "cell_type": "code",
      "source": [
        "# Check Unique Values for each variable.\n",
        "for i in urd_df.columns.to_list():\n",
        "  print(\"Unique values in\" ,i, \"is\",urd_df[i].nunique())"
      ],
      "metadata": {
        "id": "Guumq8baLybP"
      },
      "execution_count": null,
      "outputs": []
    },
    {
      "cell_type": "code",
      "source": [
        "# Dataset Information about various attributes of Dataset\n",
        "def User_Review():\n",
        "  temp=pd.DataFrame(index=urd_df.columns)\n",
        "  temp['Datatypes']=urd_df.dtypes\n",
        "  temp['Not Null Values']=urd_df.count()\n",
        "  temp['Null Values']=urd_df.isnull().sum()\n",
        "  temp['% ratio of Null Values']=urd_df.isnull().mean()\n",
        "  temp['Unique Values']=urd_df.nunique()\n",
        "  temp[\"Duplicate Values\"]=urd_df.duplicated().sum()\n",
        "  return temp\n",
        "User_Review()\n"
      ],
      "metadata": {
        "id": "t2Xw95EaL8rF"
      },
      "execution_count": null,
      "outputs": []
    },
    {
      "cell_type": "code",
      "source": [
        "urd_df.boxplot()"
      ],
      "metadata": {
        "id": "BRLOS2EZMclM"
      },
      "execution_count": null,
      "outputs": []
    },
    {
      "cell_type": "markdown",
      "source": [
        "##In above dataset we have observed tht, their are more NaN values present in the data, so we are analyzing it to remove"
      ],
      "metadata": {
        "id": "pXndeAcBQsUj"
      }
    },
    {
      "cell_type": "markdown",
      "source": [
        "#Finding NaN Values in the dataset\n"
      ],
      "metadata": {
        "id": "_UZDDSQgI7X_"
      }
    },
    {
      "cell_type": "code",
      "source": [
        "urd_df[(urd_df['Translated_Review'].isnull())]"
      ],
      "metadata": {
        "id": "XPBsI12gI193"
      },
      "execution_count": null,
      "outputs": []
    },
    {
      "cell_type": "markdown",
      "source": [
        "Here we can see that total of 26868 rows contain NaN values in Translated_review column.\n",
        "\n",
        "So we can analyze that, App reviews which have Nan Values, tends to have NaN values in other all Columns as well"
      ],
      "metadata": {
        "id": "uq6gfHTDScCW"
      }
    },
    {
      "cell_type": "code",
      "source": [
        "# We check here all NaN Values inTanslated Review column correspond to some non Null values\n",
        "urd_df[urd_df['Translated_Review'].isnull() & urd_df['Sentiment_Polarity'].notna()]"
      ],
      "metadata": {
        "id": "chzEsuZJUH81"
      },
      "execution_count": null,
      "outputs": []
    },
    {
      "cell_type": "markdown",
      "source": [
        "By above Data analysis,we can understand, the values of remaining columns are non null for null values in the translated_Review column,which can likely be  error. Its like all other columns Sentiment,Sentiment_Polarity, Sentiment_Subjectivity are depended on Translated_Review.\n",
        "\n",
        "So, the corresponding rows are incorrect, and we can drop the corresponding rows"
      ],
      "metadata": {
        "id": "zRmDQ2FQYEXU"
      }
    },
    {
      "cell_type": "code",
      "source": [
        "# Deleting the rows containing NaN values\n",
        "urd_df.dropna(inplace=True)\n",
        "urd_df.shape"
      ],
      "metadata": {
        "id": "cc8EvxVpbK-v"
      },
      "execution_count": null,
      "outputs": []
    },
    {
      "cell_type": "code",
      "source": [
        "# Checking all Null and corresponding non null Values Removed\n",
        "urd_df[urd_df['Translated_Review'].isnull() & urd_df['Sentiment_Polarity'].notna()]"
      ],
      "metadata": {
        "id": "9rSyzbWScKXu"
      },
      "execution_count": null,
      "outputs": []
    },
    {
      "cell_type": "code",
      "source": [
        "# Checking data is cleaned or not\n",
        "urd_df.head(20)"
      ],
      "metadata": {
        "id": "2oRrMPQDc3m8"
      },
      "execution_count": null,
      "outputs": []
    },
    {
      "cell_type": "markdown",
      "source": [
        "**There are a total of 37427 rows in the UserReview Dataset.**"
      ],
      "metadata": {
        "id": "NusvJKKrf7qJ"
      }
    },
    {
      "cell_type": "markdown",
      "source": [
        "### What all manipulations have you done and insights you found?"
      ],
      "metadata": {
        "id": "MSa1f5Uengrz"
      }
    },
    {
      "cell_type": "markdown",
      "source": [
        "**In the play_store dataset, we did these manipulations.**\n",
        "\n",
        "\n",
        "* We checked the first and last 10 rows of the dataset using head() and tail() to get an idea of the data, then used shape to check the dimensions of the dataset, columns to get the column names, and info() to see data types and any null values.\n",
        "\n",
        "* We found and removed 483 duplicate values to ensure data accuracy.\n",
        "\n",
        "* We discovered 1474 null values in the \"Rating\" column and replaced them with the median value, as it is a better representation of central tendency than the mean, which can be skewed by outliers.\n",
        "\n",
        "* We also dropped one row that had a rating of 19, which was not possible as the maximum rating is 5.\n",
        "\n",
        "* We removed 1 null value from the \"Type\" column, 8 null values from the \"Current Ver\" column, and 2 null values from the \"Android Ver\" column.\n",
        "\n",
        "* We noticed that there were 10,039 free apps that had a price of 0, so we replaced the price value with the keyword \"Free\" for clarity.\n",
        "\n",
        "* We removed unnecessary characters such as \"M\" and \"K\" from the \"Size\" column, \"$\" sign from \"Price\" column, and \"+\" and \",\" from \"Installs\" column to make the data more consistent and easy to read.\n",
        "\n",
        "* We discovered 1181 duplicate apps in the \"App\" column and removed them to avoid redundancy and ensure data accuracy.\n",
        "\n",
        "\n",
        "**In the user_reviews dataset we did these manipulations.**\n",
        "\n",
        "* We checked the first and last 10 rows of the dataset using head() and tail() to get an idea of the data, then used shape to check the dimensions of the dataset, columns to get the column names, and info() to see data types and any null values.\n",
        "\n",
        "* We found NaN values in the \"Sentiment_Polarity\" column and dropped all null values from the dataset using dropna, as these are categorical values and cannot be imputed with a value.\n",
        "\n",
        "\n",
        "**From above  we found these manipulations, we found these Insights.**\n",
        "\n",
        "* From the play_store_data, we found that the majority of apps are free, with over 10039 apps being free and only 800 being paid. Additionally, we found that there were 1181 duplicate app entries, so we removed them from the dataset. We also discovered that the Rating column had 1474 missing values, which we replaced with the median value. Moreover, there were 483 duplicate rows that we removed.\n",
        "\n",
        "* In terms of user_reviews_data, we found that the dataset contained 64295 rows and 5 columns. We observed that there were some missing values in the Sentiment_Polarity column, which we dropped as they were categorical values.\n",
        "\n",
        "* In conclusion, we can say that the play_store_data and user_reviews_data are valuable datasets, and when we complete our analysis and generate a final report that will be helpful for developers and businesses."
      ],
      "metadata": {
        "id": "IV7_Df9MbKMq"
      }
    },
    {
      "cell_type": "markdown",
      "source": [
        "## ***4. Data Visualization, Storytelling & Experimenting with charts : Understand the relationships between variables***"
      ],
      "metadata": {
        "id": "GF8Ens_Soomf"
      }
    },
    {
      "cell_type": "markdown",
      "source": [
        "#### Chart - 1"
      ],
      "metadata": {
        "id": "0wOQAZs5pc--"
      }
    },
    {
      "cell_type": "markdown",
      "source": [
        "#1. Which Category has most number of Installs?"
      ],
      "metadata": {
        "id": "Ri2jx3Ioj6Xs"
      }
    },
    {
      "cell_type": "code",
      "source": [
        "# merge the datasets\n",
        "merged_dataset = pd.merge(psd_df, urd_df, on='App')\n",
        "\n",
        "# grouping the data by category and sum ming the installs\n",
        "category_installs = merged_dataset.groupby('Category')['Installs'].sum().reset_index()\n",
        "\n",
        "# sorting the data by installs in descending order\n",
        "sorted = category_installs.sort_values('Installs', ascending=False)\n",
        "\n",
        "# creating a BarPlot\n",
        "sns.set(style=\"darkgrid\")\n",
        "fig, ax = plt.subplots(figsize=(10,10))\n",
        "ax = sns.barplot(x='Category', y='Installs', data=sorted)\n",
        "ax.set_xticklabels(ax.get_xticklabels(), rotation=45, ha=\"right\", fontsize=12)\n",
        "ax.set_xlabel('Category', fontsize=12)\n",
        "ax.set_ylabel('Installs', fontsize=12)\n",
        "ax.set_title('App Categories with  Most Number of Installs', fontsize=14)\n",
        "\n",
        "plt.show()\n",
        "\n",
        "\n",
        "\n",
        "\n"
      ],
      "metadata": {
        "id": "7v_ESjsspbW7"
      },
      "execution_count": null,
      "outputs": []
    },
    {
      "cell_type": "markdown",
      "source": [
        "##### 1. Why did you pick the specific chart?"
      ],
      "metadata": {
        "id": "K5QZ13OEpz2H"
      }
    },
    {
      "cell_type": "markdown",
      "source": [
        "\n",
        "A bar chart is a good choice for visualizing the number of Installs for different categories of App because it allows us to compare easily between Categories."
      ],
      "metadata": {
        "id": "XESiWehPqBRc"
      }
    },
    {
      "cell_type": "markdown",
      "source": [
        "##### 2. What is/are the insight(s) found from the chart?"
      ],
      "metadata": {
        "id": "lQ7QKXXCp7Bj"
      }
    },
    {
      "cell_type": "markdown",
      "source": [
        "In this visualization, we can see that the most downloaded applications belong to the GAME category, it indicates that GAMES category has a high demand. After GAMES, we can see there is a strong competition between PHOTOGRAPHY and COMMUNICATION applications, because the no of downloads vary with just a few in number"
      ],
      "metadata": {
        "id": "C_j1G7yiqdRP"
      }
    },
    {
      "cell_type": "markdown",
      "source": [
        "##### 3. Will the gained insights help creating a positive business impact?\n",
        "Are there any insights that lead to negative growth? Justify with specific reason."
      ],
      "metadata": {
        "id": "448CDAPjqfQr"
      }
    },
    {
      "cell_type": "markdown",
      "source": [
        "Companies operating in the GAMES category can increase their high demand to develop and market their GAMES more effectively, and potentially it leads  to higher revenue and market share. Similarly, companies operating in the PHOTOGRAPHY and COMMUNICATION categories can identify the strong competition and innovate their products so that they can achieve the market and capture more customers. This can help them improve their market position and increase their revenue."
      ],
      "metadata": {
        "id": "3cspy4FjqxJW"
      }
    },
    {
      "cell_type": "markdown",
      "source": [
        "#### Chart - 2"
      ],
      "metadata": {
        "id": "KSlN3yHqYklG"
      }
    },
    {
      "cell_type": "markdown",
      "source": [
        "#2. Which Category is having most Reviews?"
      ],
      "metadata": {
        "id": "BFpkOzr0y26E"
      }
    },
    {
      "cell_type": "code",
      "source": [
        "# Merging Data\n",
        "# merged_data=pd.merge(psd_df,urd_df, on='App')\n",
        "# Calculate the number of reviews by category\n",
        "review_cat = merged_dataset.groupby('Category')['Translated_Review'].count().sort_values(ascending=False)\n",
        "# review_cat\n",
        "# # creating a BarPlot\n",
        "plt.figure(figsize=(10, 10))\n",
        "sns.barplot(x=review_cat.values, y=review_cat.index, palette=\"Greens_r\")\n",
        "plt.xlabel(\"Number of Reviews\")\n",
        "plt.ylabel(\"Category\")\n",
        "plt.title(\"Number of Reviews by Category\")\n",
        "\n",
        "\n",
        "plt.show()\n"
      ],
      "metadata": {
        "id": "R4YgtaqtYklH"
      },
      "execution_count": null,
      "outputs": []
    },
    {
      "cell_type": "markdown",
      "source": [
        "##### 1. Why did you pick the specific chart?"
      ],
      "metadata": {
        "id": "t6dVpIINYklI"
      }
    },
    {
      "cell_type": "markdown",
      "source": [
        "I chose a horizontal bar chart to visualize the distribution of reviews across different app categories because it allows for easy comparison of the number of reviews for each category. The horizontal layout also makes it easier to read the category labels."
      ],
      "metadata": {
        "id": "5aaW0BYyYklI"
      }
    },
    {
      "cell_type": "markdown",
      "source": [
        "##### 2. What is/are the insight(s) found from the chart?"
      ],
      "metadata": {
        "id": "ijmpgYnKYklI"
      }
    },
    {
      "cell_type": "markdown",
      "source": [
        "Generally Users will be giving reviews after using it, here we can see that the GAME category has the highest number of reviews. This suggests that the GAME category has a large and engaged users. HEALTH_AND_FITNESS, as well as FAMILY, are the next highest categories in terms of reviews received. The DATING and TRAVEL_AND_LOCAL categories have a similar number of reviews after HEALTH_AND_FITNESS and FAMILY, then we can see that, SPORTS, PRODUCTIVITY, TOOLS AND FINANCE have almost equal number of reviews"
      ],
      "metadata": {
        "id": "PSx9atu2YklI"
      }
    },
    {
      "cell_type": "markdown",
      "source": [
        "##### 3. Will the gained insights help creating a positive business impact?\n",
        "Are there any insights that lead to negative growth? Justify with specific reason."
      ],
      "metadata": {
        "id": "-JiQyfWJYklI"
      }
    },
    {
      "cell_type": "markdown",
      "source": [
        "It provides insights into which categories have a large and engaged user base, which could be useful for app developers and marketers to target their efforts towards these categories. It also highlights the importance of providing a positive user experience in order to encourage users to leave reviews, which can ultimately lead to increased visibility and downloads for an app."
      ],
      "metadata": {
        "id": "BcBbebzrYklV"
      }
    },
    {
      "cell_type": "markdown",
      "source": [
        "#### Chart - 3"
      ],
      "metadata": {
        "id": "EM7whBJCYoAo"
      }
    },
    {
      "cell_type": "markdown",
      "source": [
        "# 3.Which Categories have Maximum Free vs. Paid Apps?"
      ],
      "metadata": {
        "id": "s_sDkCr4fZN5"
      }
    },
    {
      "cell_type": "code",
      "source": [
        "# Grouping the data by category and type\n",
        "cat_count=psd_df.groupby(['Category', 'Type']).count()['App'].unstack()\n",
        "\n",
        "#Here we use stacked barplot\n",
        "cat_count.plot(kind='bar', stacked='True')\n",
        "# Creating title and xy lables\n",
        "plt.title(\"Distribution of Category based on Free Vs Paid\")\n",
        "plt.xlabel(\"Category\")\n",
        "plt.ylabel(\"No of Apps\")\n",
        "plt.show()\n"
      ],
      "metadata": {
        "id": "t6GMdE67YoAp"
      },
      "execution_count": null,
      "outputs": []
    },
    {
      "cell_type": "markdown",
      "source": [
        "##### 1. Why did you pick the specific chart?"
      ],
      "metadata": {
        "id": "fge-S5ZAYoAp"
      }
    },
    {
      "cell_type": "markdown",
      "source": [
        "I picked the stacked bar chart because it allows a clear comparison between the number of free and paid apps in each category, as well as the overall distribution of free vs. paid apps across all categories."
      ],
      "metadata": {
        "id": "5dBItgRVYoAp"
      }
    },
    {
      "cell_type": "markdown",
      "source": [
        "##### 2. What is/are the insight(s) found from the chart?"
      ],
      "metadata": {
        "id": "85gYPyotYoAp"
      }
    },
    {
      "cell_type": "markdown",
      "source": [
        "Business and Developers create Apps under popular categories like \"FAMILY\", \"GAMES\", and \"TOOLS\" this leads to explore other revenue options because these categories have a high number of free apps, making it challenging to generate income solely through app purchases."
      ],
      "metadata": {
        "id": "4jstXR6OYoAp"
      }
    },
    {
      "cell_type": "markdown",
      "source": [
        "##### 3. Will the gained insights help creating a positive business impact?\n",
        "Are there any insights that lead to negative growth? Justify with specific reason."
      ],
      "metadata": {
        "id": "RoGjAbkUYoAp"
      }
    },
    {
      "cell_type": "markdown",
      "source": [
        "It can help developers and businesses make better decisions about which categories to focus on more. If they want to create a paid app, they might focus on the \"FAMILY\" or \"GAME\" categories so, that they can increase the revenue. But if they want to create a free app with less competition, they could consider the \"BEAUTY\",\"ART AND DESIGN,\" and \"COMICS\" categories, brcause it is having very less amount of free Apps."
      ],
      "metadata": {
        "id": "zfJ8IqMcYoAp"
      }
    },
    {
      "cell_type": "markdown",
      "source": [],
      "metadata": {
        "id": "GgLeYqe4jcjg"
      }
    },
    {
      "cell_type": "markdown",
      "source": [
        "#### Chart - 4"
      ],
      "metadata": {
        "id": "4Of9eVA-YrdM"
      }
    },
    {
      "cell_type": "markdown",
      "source": [
        "#4.What is the Average  or Mean Rating of Free vs. Paid Apps?"
      ],
      "metadata": {
        "id": "v7NTPf4tjsdI"
      }
    },
    {
      "cell_type": "code",
      "source": [
        "# Merging Data is done in above plot using it here\n",
        "\n",
        "free_paid=merged_dataset[merged_dataset['Type'].isin(['Free','Paid'])]\n",
        "\n",
        "# Violin Plot\n",
        "sns.violinplot(x=\"Type\",y=\"Rating\",data=free_paid)\n",
        "# plt.hist(x=\"Type\",y=\"Rating\",data=free_paid)\n",
        "plt.title(\"Average Rating of Free Vs Paid Apps\")\n",
        "plt.show()\n"
      ],
      "metadata": {
        "id": "irlUoxc8YrdO"
      },
      "execution_count": null,
      "outputs": []
    },
    {
      "cell_type": "markdown",
      "source": [
        "##### 1. Why did you pick the specific chart?"
      ],
      "metadata": {
        "id": "iky9q4vBYrdO"
      }
    },
    {
      "cell_type": "markdown",
      "source": [
        "I chose to use a violin plot because it can show the distribution of data for both free and paid apps, as well as the average rating for each."
      ],
      "metadata": {
        "id": "aJRCwT6DYrdO"
      }
    },
    {
      "cell_type": "markdown",
      "source": [
        "##### 2. What is/are the insight(s) found from the chart?"
      ],
      "metadata": {
        "id": "F6T5p64dYrdO"
      }
    },
    {
      "cell_type": "markdown",
      "source": [
        "Both \"FREE\" and \"PAID\" apps have a similar average rating of about 4.3. But however, \"FREE\" apps have a wider range of ratings than \"PAID\" apps, meaning there is more variation in their ratings. On the other hand, \"PAID\" apps have a more consistent rating, with fewer extreme ratings. This information can be helpful for users when deciding whether to download a free or \"PAID\" app."
      ],
      "metadata": {
        "id": "Xx8WAJvtYrdO"
      }
    },
    {
      "cell_type": "markdown",
      "source": [
        "##### 3. Will the gained insights help creating a positive business impact?\n",
        "Are there any insights that lead to negative growth? Justify with specific reason."
      ],
      "metadata": {
        "id": "y-Ehk30pYrdP"
      }
    },
    {
      "cell_type": "markdown",
      "source": [
        "This information can help a companies to decide whether to offer their apps for \"FREE\", or offer \"PAID\". If they want consistent ratings, they may choose to charge for the app. If they want a wider audience, they may choose to offer the app for \"FREE\", even if there may be more variability in the reviews."
      ],
      "metadata": {
        "id": "jLNxxz7MYrdP"
      }
    },
    {
      "cell_type": "markdown",
      "source": [
        "#### Chart - 5"
      ],
      "metadata": {
        "id": "bamQiAODYuh1"
      }
    },
    {
      "cell_type": "markdown",
      "source": [
        "#5. What is the distribution of app ratings?"
      ],
      "metadata": {
        "id": "oec592vsNIPg"
      }
    },
    {
      "cell_type": "code",
      "source": [
        "# Merging data is aleady done, nned to use it here\n",
        "plt.hist(merged_dataset['Rating'], bins=30)\n",
        "# Labels\n",
        "plt.title(\"Distribution of App Ratings\")\n",
        "plt.xlabel(\"App Rating\")\n",
        "plt.ylabel(\"Frequency of the App\")"
      ],
      "metadata": {
        "id": "TIJwrbroYuh3"
      },
      "execution_count": null,
      "outputs": []
    },
    {
      "cell_type": "markdown",
      "source": [
        "##### 1. Why did you pick the specific chart?"
      ],
      "metadata": {
        "id": "QHF8YVU7Yuh3"
      }
    },
    {
      "cell_type": "markdown",
      "source": [
        "Answer Here."
      ],
      "metadata": {
        "id": "dcxuIMRPYuh3"
      }
    },
    {
      "cell_type": "markdown",
      "source": [
        "##### 2. What is/are the insight(s) found from the chart?"
      ],
      "metadata": {
        "id": "GwzvFGzlYuh3"
      }
    },
    {
      "cell_type": "markdown",
      "source": [
        "Answer Here"
      ],
      "metadata": {
        "id": "uyqkiB8YYuh3"
      }
    },
    {
      "cell_type": "markdown",
      "source": [
        "##### 3. Will the gained insights help creating a positive business impact?\n",
        "Are there any insights that lead to negative growth? Justify with specific reason."
      ],
      "metadata": {
        "id": "qYpmQ266Yuh3"
      }
    },
    {
      "cell_type": "markdown",
      "source": [
        "Answer Here"
      ],
      "metadata": {
        "id": "_WtzZ_hCYuh4"
      }
    },
    {
      "cell_type": "markdown",
      "source": [
        "# 6.What is the Average App size in different Categories?"
      ],
      "metadata": {
        "id": "lFNZNgc_5vhP"
      }
    },
    {
      "cell_type": "markdown",
      "source": [
        "#### Chart - 6"
      ],
      "metadata": {
        "id": "OH-pJp9IphqM"
      }
    },
    {
      "cell_type": "code",
      "source": [
        "# Grouping PlayStore Data by category and finding the Mean of Size\n",
        "mean_size_cat = psd_df.groupby(\"Category\")[\"Size\"].mean() / 1000000\n",
        "mean_size_cat\n",
        "# creating bar chart\n",
        "plt.figure(figsize=(12,8))\n",
        "mean_size_cat.plot(kind='bar')\n",
        "plt.xticks(rotation=90)\n",
        "plt.title(\"Average App Size by Category\")\n",
        "plt.xlabel(\"Category\")\n",
        "plt.ylabel(\"Average App Size in MB\")\n",
        "\n",
        "# time to print\n",
        "plt.show()\n"
      ],
      "metadata": {
        "id": "kuRf4wtuphqN"
      },
      "execution_count": null,
      "outputs": []
    },
    {
      "cell_type": "markdown",
      "source": [
        "##### 1. Why did you pick the specific chart?"
      ],
      "metadata": {
        "id": "bbFf2-_FphqN"
      }
    },
    {
      "cell_type": "markdown",
      "source": [
        "I have chosen bar plot because it is a simple and effective way to compare the average App size in different Categories."
      ],
      "metadata": {
        "id": "loh7H2nzphqN"
      }
    },
    {
      "cell_type": "markdown",
      "source": [
        "##### 2. What is/are the insight(s) found from the chart?"
      ],
      "metadata": {
        "id": "_ouA3fa0phqN"
      }
    },
    {
      "cell_type": "markdown",
      "source": [
        "Apps in different categories have different average sizes. The biggest apps are in the \"GAME\" and \"FAMILY\" category, while the smallest apps are in the \"TOOLS\". We can see that their is an equal number of size between \"SPORTS\" and \"TRAVEL AND LOCAL\""
      ],
      "metadata": {
        "id": "VECbqPI7phqN"
      }
    },
    {
      "cell_type": "markdown",
      "source": [
        "##### 3. Will the gained insights help creating a positive business impact?\n",
        "Are there any insights that lead to negative growth? Justify with specific reason."
      ],
      "metadata": {
        "id": "Seke61FWphqN"
      }
    },
    {
      "cell_type": "markdown",
      "source": [
        "It helps App developers to optimize the size of their apps according to their target category.Also, make sure their apps are not too big and take up too much space on users' devices."
      ],
      "metadata": {
        "id": "DW4_bGpfphqN"
      }
    },
    {
      "cell_type": "markdown",
      "source": [
        "## 7.Which category of Apps from the ‘Content Rating’ column is found more on the play store?"
      ],
      "metadata": {
        "id": "QTAI1B1M9fLc"
      }
    },
    {
      "cell_type": "markdown",
      "source": [
        "#### Chart - 7"
      ],
      "metadata": {
        "id": "PIIx-8_IphqN"
      }
    },
    {
      "cell_type": "code",
      "source": [
        "# content rating of the apps\n",
        "data = psd_df['Content Rating'].value_counts()\n",
        "labels = ['All', 'Teen', 'All 10+', 'Mature 17+','Adults Only 18+', 'Unrated']\n",
        "\n",
        "# using pie chart\n",
        "plt.figure(figsize=(12,18))\n",
        "explode=(0,0.1,0.1,0.1,0.0,1.3)\n",
        "colors = ['y', 'r', 'b', 'g', 'm', 'k']\n",
        "plt.pie(data, labels = labels, colors = colors, autopct='%.2f%%',explode=explode,textprops={'fontsize': 15})\n",
        "plt.title('Content Rating',size=20,loc='center')\n",
        "plt.legend();"
      ],
      "metadata": {
        "id": "lqAIGUfyphqO"
      },
      "execution_count": null,
      "outputs": []
    },
    {
      "cell_type": "markdown",
      "source": [
        "##### 1. Why did you pick the specific chart?"
      ],
      "metadata": {
        "id": "t27r6nlMphqO"
      }
    },
    {
      "cell_type": "markdown",
      "source": [
        "A Pie Chart is a good choice for visualizing the distribution of categories in the 'Content Rating' column. Because Pie Charts are suitable for single variable"
      ],
      "metadata": {
        "id": "iv6ro40sphqO"
      }
    },
    {
      "cell_type": "markdown",
      "source": [
        "##### 2. What is/are the insight(s) found from the chart?"
      ],
      "metadata": {
        "id": "r2jJGEOYphqO"
      }
    },
    {
      "cell_type": "markdown",
      "source": [
        "In the above Pie chart we found most of the apps on the play store have a content rating of 'Everyone' (81.80%). This is followed by 'Teen' (10.74%), 'Everyone 10+' (4.07%), 'Mature 17+' (3.34%), 'Adults only 18+' (0.03%), and 'Unrated' (0.02%)."
      ],
      "metadata": {
        "id": "Po6ZPi4hphqO"
      }
    },
    {
      "cell_type": "markdown",
      "source": [
        "##### 3. Will the gained insights help creating a positive business impact?\n",
        "Are there any insights that lead to negative growth? Justify with specific reason."
      ],
      "metadata": {
        "id": "b0JNsNcRphqO"
      }
    },
    {
      "cell_type": "markdown",
      "source": [
        "This information can help app developers to know that the majority of apps have a 'Everyone' rating, which allows for a broad audience. But for business targets specific age groups, like 'Mature 17+' or 'Adults only 18+', this information can be useful as there is less competition in those areas."
      ],
      "metadata": {
        "id": "xvSq8iUTphqO"
      }
    },
    {
      "cell_type": "markdown",
      "source": [],
      "metadata": {
        "id": "QAQ9WqUlC3Rz"
      }
    },
    {
      "cell_type": "markdown",
      "source": [
        "#8.How many Apps are Paid or Free?"
      ],
      "metadata": {
        "id": "wdkQsnpSC5xR"
      }
    },
    {
      "cell_type": "markdown",
      "source": [
        "#### Chart - 8"
      ],
      "metadata": {
        "id": "BZR9WyysphqO"
      }
    },
    {
      "cell_type": "code",
      "source": [
        "# Here, we create a variable and store the count of Type of Apps value\n",
        "paid_free= psd_df['Type'].value_counts()\n",
        "labels= psd_df['Type'].value_counts().index\n",
        "# creating a pie chart\n",
        "plt.figure(figsize=(12,10))\n",
        "colors = ['#11a6d4','#e3480b']\n",
        "explode = (0.01,0.1)\n",
        "plt.pie(paid_free,labels=labels,colors=colors,autopct='%.2f%%',explode=explode,shadow=True,textprops={'fontsize': 15})\n",
        "plt.title('Free Vs Paid Apps')\n",
        "\n",
        "\n",
        "plt.show()"
      ],
      "metadata": {
        "id": "TdPTWpAVphqO"
      },
      "execution_count": null,
      "outputs": []
    },
    {
      "cell_type": "markdown",
      "source": [
        "##### 1. Why did you pick the specific chart?"
      ],
      "metadata": {
        "id": "jj7wYXLtphqO"
      }
    },
    {
      "cell_type": "markdown",
      "source": [
        "Pie charts are a good choice for visualizing categorical data like the distribution of Free vs. Paid Apps."
      ],
      "metadata": {
        "id": "Ob8u6rCTphqO"
      }
    },
    {
      "cell_type": "markdown",
      "source": [
        "##### 2. What is/are the insight(s) found from the chart?"
      ],
      "metadata": {
        "id": "eZrbJ2SmphqO"
      }
    },
    {
      "cell_type": "markdown",
      "source": [
        "Most Apps in the Play Store dataset are free (92.20%), while only a small percentage are Paid (7.80%). This suggests that users prefer maximum Free Apps."
      ],
      "metadata": {
        "id": "mZtgC_hjphqO"
      }
    },
    {
      "cell_type": "markdown",
      "source": [
        "##### 3. Will the gained insights help creating a positive business impact?\n",
        "Are there any insights that lead to negative growth? Justify with specific reason."
      ],
      "metadata": {
        "id": "rFu4xreNphqO"
      }
    },
    {
      "cell_type": "markdown",
      "source": [
        "The high percentage of Free Apps in the Play Store suggests that developing Free Apps can be a successful business strategy to attract users."
      ],
      "metadata": {
        "id": "ey_0qi68phqO"
      }
    },
    {
      "cell_type": "markdown",
      "source": [
        "#9. What is the correlation between App size and the No of Downloads"
      ],
      "metadata": {
        "id": "7C0LfucvhCue"
      }
    },
    {
      "cell_type": "markdown",
      "source": [
        "#### Chart - 9"
      ],
      "metadata": {
        "id": "YJ55k-q6phqO"
      }
    },
    {
      "cell_type": "code",
      "source": [
        "# Merging data\n",
        "#here we convert the size into number\n",
        "merged_dataset['Size']=merged_dataset['Size'].apply(lambda x: x.strip('M') if type(x)==str else x)\n",
        "merged_dataset['Size']=pd.to_numeric(merged_dataset['Size'], errors='coerce')\n",
        "merged_dataset['Size']\n",
        "\n",
        "\n",
        "#Scatter Plot\n",
        "plt.figure(figsize=(10,8))\n",
        "sns.set_theme(style=\"white\")\n",
        "sns.scatterplot(x=\"Size\", y=\"Installs\", data=merged_dataset)\n",
        "\n",
        "# adding labels and a title\n",
        "plt.xlabel(\"App Size\")\n",
        "plt.ylabel(\"Number of Downloads\")\n",
        "plt.title(\"Correlation between App Size and Number of Downloads\")\n",
        "\n",
        "# time to print\n",
        "plt.show()"
      ],
      "metadata": {
        "id": "B2aS4O1ophqO"
      },
      "execution_count": null,
      "outputs": []
    },
    {
      "cell_type": "markdown",
      "source": [
        "##### 1. Why did you pick the specific chart?"
      ],
      "metadata": {
        "id": "gCFgpxoyphqP"
      }
    },
    {
      "cell_type": "markdown",
      "source": [
        "The scatter plot was chosen to display the correlation between app size and number of downloads because it is an effective way to compare different categories and show the distribution of the data."
      ],
      "metadata": {
        "id": "TVxDimi2phqP"
      }
    },
    {
      "cell_type": "markdown",
      "source": [
        "##### 2. What is/are the insight(s) found from the chart?"
      ],
      "metadata": {
        "id": "OVtJsKN_phqQ"
      }
    },
    {
      "cell_type": "markdown",
      "source": [
        "Here in this, we can observe that, as the number of  app size decreases, the number of downloads also decreases."
      ],
      "metadata": {
        "id": "ngGi97qjphqQ"
      }
    },
    {
      "cell_type": "markdown",
      "source": [
        "##### 3. Will the gained insights help creating a positive business impact?\n",
        "Are there any insights that lead to negative growth? Justify with specific reason."
      ],
      "metadata": {
        "id": "lssrdh5qphqQ"
      }
    },
    {
      "cell_type": "markdown",
      "source": [
        "In above information App developers can focus on providing a wider range of App sizes to attract more downloads. The developers should focus on creating apps of different sizes to attract a wider range of users and increase their chances of getting more downloads. It can also help them optimize their App size to meet user needs and preferences."
      ],
      "metadata": {
        "id": "tBpY5ekJphqQ"
      }
    },
    {
      "cell_type": "markdown",
      "source": [],
      "metadata": {
        "id": "bTI9F5XRnd2m"
      }
    },
    {
      "cell_type": "markdown",
      "source": [
        "#### Chart - 10"
      ],
      "metadata": {
        "id": "U2RJ9gkRphqQ"
      }
    },
    {
      "cell_type": "markdown",
      "source": [
        "# 10.What is Sentiment Analysis Based on Category in Reviews Data?"
      ],
      "metadata": {
        "id": "csXSHR4JCxjv"
      }
    },
    {
      "cell_type": "code",
      "source": [
        "from matplotlib.ticker import PercentFormatter\n",
        "\n",
        "# merge the data on the app by using inner join\n",
        "merged_df = pd.merge(psd_df, urd_df, on='App', how = 'inner')\n",
        "merged_df.head()\n",
        "f = plt.figure(figsize=(15,8))\n",
        "ax = f.add_subplot(1,1,1)\n",
        "\n",
        "# using seaborn lib to show stacked histogram\n",
        "sns.histplot(\n",
        "    data=merged_df,\n",
        "    x=\"Category\", hue=\"Sentiment\",\n",
        "    bins=34,\n",
        "    ax=ax,\n",
        "    stat=\"count\",\n",
        "    multiple=\"stack\",\n",
        "    palette=\"light:r_r\",\n",
        "    edgecolor=\".3\",\n",
        "    linewidth=1.5,\n",
        "    legend=True\n",
        "    )\n",
        "\n",
        "\n",
        "ax.set_title(\"Sentiment Analysis Based on Category\",fontsize=12,fontweight='bold')\n",
        "plt.xticks(rotation='vertical')\n",
        "ax.set_xlabel(\"Category\",fontsize=14)\n",
        "ax.set_ylabel(\"Review Counts\",fontsize=14)\n",
        "\n",
        "plt.gca().yaxis.set_major_formatter(PercentFormatter(20000))\n",
        "sns.set(style=\"white\")\n",
        "# plt.grid()\n",
        "plt.show()"
      ],
      "metadata": {
        "id": "GM7a4YP4phqQ"
      },
      "execution_count": null,
      "outputs": []
    },
    {
      "cell_type": "markdown",
      "source": [
        "##### 1. Why did you pick the specific chart?"
      ],
      "metadata": {
        "id": "1M8mcRywphqQ"
      }
    },
    {
      "cell_type": "markdown",
      "source": [
        "Here we picked Histogram because it helps to visualize the sentiment analysis based on categories in the reviews data.In this plot we can make Stacked Histogram"
      ],
      "metadata": {
        "id": "8agQvks0phqQ"
      }
    },
    {
      "cell_type": "markdown",
      "source": [
        "##### 2. What is/are the insight(s) found from the chart?"
      ],
      "metadata": {
        "id": "tgIPom80phqQ"
      }
    },
    {
      "cell_type": "markdown",
      "source": [
        "It tell us which app categories have the most positive and negative reviews. Seems like the \"GAME\" category has the most reviews, both positive and negative. However, there are more negative reviews than positive ones, so we can see that  the developers of those particular Apps should figure out what is the cause for negative experiences and improve them. On the other hand, the \"COMICS\" category has very few reviews, both positive and negative."
      ],
      "metadata": {
        "id": "Qp13pnNzphqQ"
      }
    },
    {
      "cell_type": "markdown",
      "source": [
        "##### 3. Will the gained insights help creating a positive business impact?\n",
        "Are there any insights that lead to negative growth? Justify with specific reason."
      ],
      "metadata": {
        "id": "JMzcOPDDphqR"
      }
    },
    {
      "cell_type": "markdown",
      "source": [
        "Businesses can identify the areas that need improvement in their Apps. This can help them improve their Apps and provide better user experience, which can lead to increased customer satisfaction and loyalty. As a result, it can have a positive impact on their business's reputation and gradually increase their revenue."
      ],
      "metadata": {
        "id": "R4Ka1PC2phqR"
      }
    },
    {
      "cell_type": "markdown",
      "source": [
        "#### Chart - 11"
      ],
      "metadata": {
        "id": "x-EpHcCOp1ci"
      }
    },
    {
      "cell_type": "markdown",
      "source": [
        " # 11. Correlation Heatmap of Play Store Data"
      ],
      "metadata": {
        "id": "Nxs1DNozU67W"
      }
    },
    {
      "cell_type": "code",
      "source": [
        "#generating Heatmap for Correlation of Playstore_data\n",
        "psd_df.corr()\n",
        "# plt.figure(figsize=(15,10))\n",
        "# sns.heatmap(psd_df.corr(),annot=True, cmap=\"Accent_r\")\n",
        "# plt.title(\"Correlation of PlayStore Data\", size=\"20\")\n"
      ],
      "metadata": {
        "id": "mAQTIvtqp1cj"
      },
      "execution_count": null,
      "outputs": []
    },
    {
      "cell_type": "markdown",
      "source": [
        "##### 1. Why did you pick the specific chart?"
      ],
      "metadata": {
        "id": "X_VqEhTip1ck"
      }
    },
    {
      "cell_type": "markdown",
      "source": [
        "We used Correlation Heatmap because it helps to understand the correlation between the columns of Play Store Data."
      ],
      "metadata": {
        "id": "-vsMzt_np1ck"
      }
    },
    {
      "cell_type": "markdown",
      "source": [
        "##### 2. What is/are the insight(s) found from the chart?"
      ],
      "metadata": {
        "id": "8zGJKyg5p1ck"
      }
    },
    {
      "cell_type": "markdown",
      "source": [
        "Answer Here"
      ],
      "metadata": {
        "id": "ZYdMsrqVp1ck"
      }
    },
    {
      "cell_type": "markdown",
      "source": [
        "##### 3. Will the gained insights help creating a positive business impact?\n",
        "Are there any insights that lead to negative growth? Justify with specific reason."
      ],
      "metadata": {
        "id": "PVzmfK_Ep1ck"
      }
    },
    {
      "cell_type": "markdown",
      "source": [
        "Answer Here"
      ],
      "metadata": {
        "id": "druuKYZpp1ck"
      }
    },
    {
      "cell_type": "markdown",
      "source": [
        "#### Chart - 12"
      ],
      "metadata": {
        "id": "n3dbpmDWp1ck"
      }
    },
    {
      "cell_type": "code",
      "source": [
        "# Chart - 12 visualization code"
      ],
      "metadata": {
        "id": "bwevp1tKp1ck"
      },
      "execution_count": null,
      "outputs": []
    },
    {
      "cell_type": "markdown",
      "source": [
        "##### 1. Why did you pick the specific chart?"
      ],
      "metadata": {
        "id": "ylSl6qgtp1ck"
      }
    },
    {
      "cell_type": "markdown",
      "source": [
        "Answer Here."
      ],
      "metadata": {
        "id": "m2xqNkiQp1ck"
      }
    },
    {
      "cell_type": "markdown",
      "source": [
        "##### 2. What is/are the insight(s) found from the chart?"
      ],
      "metadata": {
        "id": "ZWILFDl5p1ck"
      }
    },
    {
      "cell_type": "markdown",
      "source": [
        "Answer Here"
      ],
      "metadata": {
        "id": "x-lUsV2mp1ck"
      }
    },
    {
      "cell_type": "markdown",
      "source": [
        "##### 3. Will the gained insights help creating a positive business impact?\n",
        "Are there any insights that lead to negative growth? Justify with specific reason."
      ],
      "metadata": {
        "id": "M7G43BXep1ck"
      }
    },
    {
      "cell_type": "markdown",
      "source": [
        "Answer Here"
      ],
      "metadata": {
        "id": "5wwDJXsLp1cl"
      }
    },
    {
      "cell_type": "markdown",
      "source": [
        "#### Chart - 13"
      ],
      "metadata": {
        "id": "Ag9LCva-p1cl"
      }
    },
    {
      "cell_type": "code",
      "source": [
        "# Chart - 13 visualization code"
      ],
      "metadata": {
        "id": "EUfxeq9-p1cl"
      },
      "execution_count": null,
      "outputs": []
    },
    {
      "cell_type": "markdown",
      "source": [
        "##### 1. Why did you pick the specific chart?"
      ],
      "metadata": {
        "id": "E6MkPsBcp1cl"
      }
    },
    {
      "cell_type": "markdown",
      "source": [
        "Answer Here."
      ],
      "metadata": {
        "id": "V22bRsFWp1cl"
      }
    },
    {
      "cell_type": "markdown",
      "source": [
        "##### 2. What is/are the insight(s) found from the chart?"
      ],
      "metadata": {
        "id": "2cELzS2fp1cl"
      }
    },
    {
      "cell_type": "markdown",
      "source": [
        "Answer Here"
      ],
      "metadata": {
        "id": "ozQPc2_Ip1cl"
      }
    },
    {
      "cell_type": "markdown",
      "source": [
        "##### 3. Will the gained insights help creating a positive business impact?\n",
        "Are there any insights that lead to negative growth? Justify with specific reason."
      ],
      "metadata": {
        "id": "3MPXvC8up1cl"
      }
    },
    {
      "cell_type": "markdown",
      "source": [
        "Answer Here"
      ],
      "metadata": {
        "id": "GL8l1tdLp1cl"
      }
    },
    {
      "cell_type": "markdown",
      "source": [
        "#### Chart - 14 - Correlation Heatmap"
      ],
      "metadata": {
        "id": "NC_X3p0fY2L0"
      }
    },
    {
      "cell_type": "code",
      "source": [
        "# Correlation Heatmap visualization code"
      ],
      "metadata": {
        "id": "xyC9zolEZNRQ"
      },
      "execution_count": null,
      "outputs": []
    },
    {
      "cell_type": "markdown",
      "source": [
        "##### 1. Why did you pick the specific chart?"
      ],
      "metadata": {
        "id": "UV0SzAkaZNRQ"
      }
    },
    {
      "cell_type": "markdown",
      "source": [
        "Answer Here."
      ],
      "metadata": {
        "id": "DVPuT8LYZNRQ"
      }
    },
    {
      "cell_type": "markdown",
      "source": [
        "##### 2. What is/are the insight(s) found from the chart?"
      ],
      "metadata": {
        "id": "YPEH6qLeZNRQ"
      }
    },
    {
      "cell_type": "markdown",
      "source": [
        "Answer Here"
      ],
      "metadata": {
        "id": "bfSqtnDqZNRR"
      }
    },
    {
      "cell_type": "markdown",
      "source": [
        "#### Chart - 15 - Pair Plot"
      ],
      "metadata": {
        "id": "q29F0dvdveiT"
      }
    },
    {
      "cell_type": "code",
      "source": [
        "# Pair Plot visualization code"
      ],
      "metadata": {
        "id": "o58-TEIhveiU"
      },
      "execution_count": null,
      "outputs": []
    },
    {
      "cell_type": "markdown",
      "source": [
        "##### 1. Why did you pick the specific chart?"
      ],
      "metadata": {
        "id": "EXh0U9oCveiU"
      }
    },
    {
      "cell_type": "markdown",
      "source": [
        "Answer Here."
      ],
      "metadata": {
        "id": "eMmPjTByveiU"
      }
    },
    {
      "cell_type": "markdown",
      "source": [
        "##### 2. What is/are the insight(s) found from the chart?"
      ],
      "metadata": {
        "id": "22aHeOlLveiV"
      }
    },
    {
      "cell_type": "markdown",
      "source": [
        "Answer Here"
      ],
      "metadata": {
        "id": "uPQ8RGwHveiV"
      }
    },
    {
      "cell_type": "markdown",
      "source": [
        "## **5. Solution to Business Objective**"
      ],
      "metadata": {
        "id": "JcMwzZxoAimU"
      }
    },
    {
      "cell_type": "markdown",
      "source": [
        "#### What do you suggest the client to achieve Business Objective ?\n",
        "Explain Briefly."
      ],
      "metadata": {
        "id": "8G2x9gOozGDZ"
      }
    },
    {
      "cell_type": "markdown",
      "source": [
        "Answer Here."
      ],
      "metadata": {
        "id": "pASKb0qOza21"
      }
    },
    {
      "cell_type": "markdown",
      "source": [
        "# **Conclusion**"
      ],
      "metadata": {
        "id": "gCX9965dhzqZ"
      }
    },
    {
      "cell_type": "markdown",
      "source": [
        "Write the conclusion here."
      ],
      "metadata": {
        "id": "Fjb1IsQkh3yE"
      }
    },
    {
      "cell_type": "markdown",
      "source": [
        "### ***Hurrah! You have successfully completed your EDA Capstone Project !!!***"
      ],
      "metadata": {
        "id": "gIfDvo9L0UH2"
      }
    }
  ]
}