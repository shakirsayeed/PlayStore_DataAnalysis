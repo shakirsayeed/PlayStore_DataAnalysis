{
  "nbformat": 4,
  "nbformat_minor": 0,
  "metadata": {
    "colab": {
      "private_outputs": true,
      "provenance": [],
      "collapsed_sections": [
        "vncDsAP0Gaoa",
        "FJNUwmbgGyua",
        "w6K7xa23Elo4",
        "yQaldy8SH6Dl",
        "PH-0ReGfmX4f",
        "mDgbUHAGgjLW",
        "O_i_v8NEhb9l",
        "HhfV-JJviCcP",
        "Y3lxredqlCYt",
        "3RnN4peoiCZX",
        "x71ZqKXriCWQ",
        "7hBIi_osiCS2",
        "JlHwYmJAmNHm",
        "35m5QtbWiB9F",
        "PoPl-ycgm1ru",
        "H0kj-8xxnORC",
        "nA9Y7ga8ng1Z",
        "PBTbrJXOngz2",
        "u3PMJOP6ngxN",
        "dauF4eBmngu3",
        "bKJF3rekwFvQ",
        "MSa1f5Uengrz",
        "GF8Ens_Soomf",
        "0wOQAZs5pc--",
        "K5QZ13OEpz2H",
        "lQ7QKXXCp7Bj",
        "448CDAPjqfQr",
        "KSlN3yHqYklG",
        "t6dVpIINYklI",
        "ijmpgYnKYklI",
        "-JiQyfWJYklI",
        "EM7whBJCYoAo",
        "fge-S5ZAYoAp",
        "85gYPyotYoAp",
        "RoGjAbkUYoAp",
        "4Of9eVA-YrdM",
        "iky9q4vBYrdO",
        "F6T5p64dYrdO",
        "y-Ehk30pYrdP",
        "bamQiAODYuh1",
        "QHF8YVU7Yuh3",
        "GwzvFGzlYuh3",
        "qYpmQ266Yuh3",
        "OH-pJp9IphqM",
        "bbFf2-_FphqN",
        "_ouA3fa0phqN",
        "Seke61FWphqN",
        "PIIx-8_IphqN",
        "t27r6nlMphqO",
        "r2jJGEOYphqO",
        "b0JNsNcRphqO",
        "BZR9WyysphqO",
        "jj7wYXLtphqO",
        "eZrbJ2SmphqO",
        "rFu4xreNphqO",
        "YJ55k-q6phqO",
        "gCFgpxoyphqP",
        "OVtJsKN_phqQ",
        "lssrdh5qphqQ",
        "U2RJ9gkRphqQ",
        "1M8mcRywphqQ",
        "tgIPom80phqQ",
        "JMzcOPDDphqR",
        "x-EpHcCOp1ci",
        "X_VqEhTip1ck",
        "8zGJKyg5p1ck",
        "PVzmfK_Ep1ck",
        "n3dbpmDWp1ck",
        "ylSl6qgtp1ck",
        "ZWILFDl5p1ck",
        "M7G43BXep1ck",
        "Ag9LCva-p1cl",
        "E6MkPsBcp1cl",
        "2cELzS2fp1cl",
        "3MPXvC8up1cl",
        "NC_X3p0fY2L0",
        "UV0SzAkaZNRQ",
        "YPEH6qLeZNRQ",
        "q29F0dvdveiT",
        "EXh0U9oCveiU",
        "22aHeOlLveiV",
        "JcMwzZxoAimU",
        "8G2x9gOozGDZ",
        "gCX9965dhzqZ",
        "gIfDvo9L0UH2"
      ],
      "include_colab_link": true
    },
    "kernelspec": {
      "name": "python3",
      "display_name": "Python 3"
    },
    "language_info": {
      "name": "python"
    }
  },
  "cells": [
    {
      "cell_type": "markdown",
      "metadata": {
        "id": "view-in-github",
        "colab_type": "text"
      },
      "source": [
        "<a href=\"https://colab.research.google.com/github/shakirsayeed/PlayStore_DataAnalysis/blob/main/EDA_Project_Work_02.ipynb\" target=\"_parent\"><img src=\"https://colab.research.google.com/assets/colab-badge.svg\" alt=\"Open In Colab\"/></a>"
      ]
    },
    {
      "cell_type": "markdown",
      "source": [
        "# **Project Name**    -\n",
        "\n"
      ],
      "metadata": {
        "id": "vncDsAP0Gaoa"
      }
    },
    {
      "cell_type": "markdown",
      "source": [
        "##### **Project Type**    - EDA\n",
        "##### **Contribution**    - Individual\n",
        "##### **Member  -** Syed Shakir Sayeed\n"
      ],
      "metadata": {
        "id": "beRrZCGUAJYm"
      }
    },
    {
      "cell_type": "markdown",
      "source": [
        "# **Project Summary -**"
      ],
      "metadata": {
        "id": "FJNUwmbgGyua"
      }
    },
    {
      "cell_type": "markdown",
      "source": [
        "The \"Play Store App Review Analysis using Exploratory Data Analysis - EDA\" project focuses on extracting valuable insights and patterns from app reviews available on the Google Play Store. The project aims to uncover trends, sentiments, and user feedback related to various mobile applications. By employing exploratory data analysis techniques, the project seeks to provide a comprehensive understanding of user sentiments, popular features, and potential areas for improvement for app developers.\n",
        "Steps Involved in developing the Project:\n",
        "1. Data Collection\n",
        "2. Data Cleaning and Preprocessing\n",
        "3. Implementing Exploratory Data Analysis\n",
        "4. Data Visualization"
      ],
      "metadata": {
        "id": "F6v_1wHtG2nS"
      }
    },
    {
      "cell_type": "markdown",
      "source": [
        "# **GitHub Link -**"
      ],
      "metadata": {
        "id": "w6K7xa23Elo4"
      }
    },
    {
      "cell_type": "markdown",
      "source": [
        "https://github.com/shakirsayeed/PlayStore_DataAnalysis.git"
      ],
      "metadata": {
        "id": "h1o69JH3Eqqn"
      }
    },
    {
      "cell_type": "markdown",
      "source": [
        "# **Problem Statement**\n"
      ],
      "metadata": {
        "id": "yQaldy8SH6Dl"
      }
    },
    {
      "cell_type": "markdown",
      "source": [
        "Explore and analyze the Google Play Store Dataset to discover key factors responsible for app engagement and success .\n"
      ],
      "metadata": {
        "id": "DpeJGUA3kjGy"
      }
    },
    {
      "cell_type": "markdown",
      "source": [
        "#### **Define Your Business Objective?**"
      ],
      "metadata": {
        "id": "PH-0ReGfmX4f"
      }
    },
    {
      "cell_type": "markdown",
      "source": [
        "## <b><i> The main objective of this project is to help app developers and businesses understand what factors make their apps successful. By analyzing the play_store_data and user_review_data datasets, we will identify relevant KPIs (Key Performance Indicators)\n",
        "## <b>This information will be used to provide insights about the data and recommendations on how to improve app engagement, retain app users, increase app revenue, and enhance marketing strategies.</b>\n",
        "## <b> My mission is to empower businesses in developing app solutions that ensure customer satisfaction and contribute to business growth. </i></b>"
      ],
      "metadata": {
        "id": "PhDvGCAqmjP1"
      }
    },
    {
      "cell_type": "markdown",
      "source": [
        "# **General Guidelines** : -  "
      ],
      "metadata": {
        "id": "mDgbUHAGgjLW"
      }
    },
    {
      "cell_type": "markdown",
      "source": [
        "1.   Well-structured, formatted, and commented code is required.\n",
        "2.   Exception Handling, Production Grade Code & Deployment Ready Code will be a plus. Those students will be awarded some additional credits.\n",
        "     \n",
        "     The additional credits will have advantages over other students during Star Student selection.\n",
        "       \n",
        "             [ Note: - Deployment Ready Code is defined as, the whole .ipynb notebook should be executable in one go\n",
        "                       without a single error logged. ]\n",
        "\n",
        "3.   Each and every logic should have proper comments.\n",
        "4. You may add as many number of charts you want. Make Sure for each and every chart the following format should be answered.\n",
        "        \n",
        "\n",
        "```\n",
        "# Chart visualization code\n",
        "```\n",
        "            \n",
        "\n",
        "*   Why did you pick the specific chart?\n",
        "*   What is/are the insight(s) found from the chart?\n",
        "* Will the gained insights help creating a positive business impact?\n",
        "Are there any insights that lead to negative growth? Justify with specific reason.\n",
        "\n",
        "5. You have to create at least 20 logical & meaningful charts having important insights.\n",
        "\n",
        "\n",
        "[ Hints : - Do the Vizualization in  a structured way while following \"UBM\" Rule.\n",
        "\n",
        "U - Univariate Analysis,\n",
        "\n",
        "B - Bivariate Analysis (Numerical - Categorical, Numerical - Numerical, Categorical - Categorical)\n",
        "\n",
        "M - Multivariate Analysis\n",
        " ]\n",
        "\n",
        "\n",
        "\n"
      ],
      "metadata": {
        "id": "ZrxVaUj-hHfC"
      }
    },
    {
      "cell_type": "markdown",
      "source": [
        "# ***Let's Begin !***"
      ],
      "metadata": {
        "id": "O_i_v8NEhb9l"
      }
    },
    {
      "cell_type": "markdown",
      "source": [
        "## ***1. Know Your Data***"
      ],
      "metadata": {
        "id": "HhfV-JJviCcP"
      }
    },
    {
      "cell_type": "markdown",
      "source": [
        "### Import Libraries"
      ],
      "metadata": {
        "id": "Y3lxredqlCYt"
      }
    },
    {
      "cell_type": "code",
      "source": [
        "# Import Libraries\n",
        "import pandas as pd # used for Data Processing\n",
        "import numpy as np # used to access builtin Numerical Methods and Functions\n",
        "import matplotlib.pyplot as plt # Used for Data Visualization\n",
        "import seaborn as sns # Used for Data Visualization\n",
        "from datetime import datetime"
      ],
      "metadata": {
        "id": "M8Vqi-pPk-HR"
      },
      "execution_count": null,
      "outputs": []
    },
    {
      "cell_type": "markdown",
      "source": [
        "# **1st Step: Data Cleaning on Play Store  Dataset**"
      ],
      "metadata": {
        "id": "PcSgmK_s4-NL"
      }
    },
    {
      "cell_type": "markdown",
      "source": [
        "### Dataset Loading"
      ],
      "metadata": {
        "id": "3RnN4peoiCZX"
      }
    },
    {
      "cell_type": "code",
      "source": [
        "# Load Dataset\n",
        "from google.colab import drive\n",
        "drive.mount('/content/drive')\n"
      ],
      "metadata": {
        "id": "4CkvbW_SlZ_R"
      },
      "execution_count": null,
      "outputs": []
    },
    {
      "cell_type": "code",
      "source": [
        "psd_path=\"/content/drive/MyDrive/DS_Notes/EDA_Project/Dataset/Play_Store_Data.csv\"\n",
        "\n",
        "psd_df=pd.read_csv(psd_path)\n",
        "\n"
      ],
      "metadata": {
        "id": "kDrhBUXVOprw"
      },
      "execution_count": null,
      "outputs": []
    },
    {
      "cell_type": "markdown",
      "source": [],
      "metadata": {
        "id": "z9J_MMb0_okE"
      }
    },
    {
      "cell_type": "markdown",
      "source": [
        "### Dataset First View"
      ],
      "metadata": {
        "id": "x71ZqKXriCWQ"
      }
    },
    {
      "cell_type": "code",
      "source": [
        "# Dataset First Look of PlayStore Data\n",
        "dataview_playstore= pd.concat([psd_df.head(),psd_df.tail()])\n",
        "dataview_playstore"
      ],
      "metadata": {
        "id": "LWNFOSvLl09H"
      },
      "execution_count": null,
      "outputs": []
    },
    {
      "cell_type": "markdown",
      "source": [
        "### Dataset Rows & Columns count"
      ],
      "metadata": {
        "id": "7hBIi_osiCS2"
      }
    },
    {
      "cell_type": "code",
      "source": [
        "# Dataset Rows & Columns count of PlayStore Data\n",
        "print(psd_df.columns)\n",
        "rows=psd_df.shape[0]\n",
        "cols= psd_df.shape[1]\n",
        "print(f\"The number of rows are {rows} and columns are {cols}\")"
      ],
      "metadata": {
        "id": "Kllu7SJgmLij"
      },
      "execution_count": null,
      "outputs": []
    },
    {
      "cell_type": "markdown",
      "source": [
        "### Dataset Information"
      ],
      "metadata": {
        "id": "JlHwYmJAmNHm"
      }
    },
    {
      "cell_type": "code",
      "source": [
        "# Dataset Info PlayStore Data\n",
        "print(\"=*=*=*=*=*=*=*=*=*Data information=*=*=*=*=*=*=*=*=*=*=*=*=\")\n",
        "psd_df.info()\n",
        "print(\"=*=*=*=*=*=*=*=*=*Data Describe=*=*=*=*=*=*=*=*=*=*=*=*=\")\n",
        "psd_df.describe(include='all')"
      ],
      "metadata": {
        "id": "e9hRXRi6meOf"
      },
      "execution_count": null,
      "outputs": []
    },
    {
      "cell_type": "markdown",
      "source": [
        "#### Duplicate Values"
      ],
      "metadata": {
        "id": "35m5QtbWiB9F"
      }
    },
    {
      "cell_type": "code",
      "source": [
        "duplicate_values=len(psd_df[psd_df.duplicated])\n",
        "print(\"The number of Duplicated Values are\",duplicate_values)"
      ],
      "metadata": {
        "id": "1sLdpKYkmox0"
      },
      "execution_count": null,
      "outputs": []
    },
    {
      "cell_type": "markdown",
      "source": [
        "#### Missing Values/Null Values"
      ],
      "metadata": {
        "id": "PoPl-ycgm1ru"
      }
    },
    {
      "cell_type": "code",
      "source": [
        "# Missing Values/Null Values Count PlayStore Data\n",
        "print(psd_df.isnull().sum())"
      ],
      "metadata": {
        "id": "GgHWkxvamxVg"
      },
      "execution_count": null,
      "outputs": []
    },
    {
      "cell_type": "code",
      "source": [
        "# Visualizing the missing values\n",
        "# Create the bar plot\n",
        "missing = psd_df.isnull()\n",
        "missing_sum = missing.sum().sort_values(ascending=False)\n",
        "\n",
        "missing_sum.plot(kind='bar')\n",
        "plt.ylabel('Number of Missing Values')\n",
        "plt.xlabel('Columns Name')\n",
        "plt.title(' Missing Values by Column')\n",
        "plt.xticks(rotation=90)  # Rotate x-axis labels for better readability if needed\n",
        "plt.tight_layout()  # Ensures the labels fit within the plot area\n",
        "plt.show()"
      ],
      "metadata": {
        "id": "JQalDNsJg_PK"
      },
      "execution_count": null,
      "outputs": []
    },
    {
      "cell_type": "markdown",
      "source": [
        "### What did you know about your dataset?"
      ],
      "metadata": {
        "id": "H0kj-8xxnORC"
      }
    },
    {
      "cell_type": "markdown",
      "source": [
        "In the bove dataset we have seen that\n",
        "\n",
        "\n",
        "1.   Rating column is having 1474 missing values\n",
        "2.   Type is having 1 missing values\n",
        "3.   Content Rtingis having 1 missing values\n",
        "4.   Current Ver is having 8 missing values\n",
        "5.   Android Ver is having 3 missing values\n",
        "\n",
        "So, here  in these rows of datasets we have missing values in these columns, in order to analyze the dataset, it is important to handle the missing values.\n",
        "\n"
      ],
      "metadata": {
        "id": "gfoNAAC-nUe_"
      }
    },
    {
      "cell_type": "markdown",
      "source": [
        "## ***2. Understanding Your Variables***"
      ],
      "metadata": {
        "id": "nA9Y7ga8ng1Z"
      }
    },
    {
      "cell_type": "code",
      "source": [
        "# Dataset Columns of PlayStore Data\n",
        "psd_df.columns"
      ],
      "metadata": {
        "id": "j7xfkqrt5Ag5"
      },
      "execution_count": null,
      "outputs": []
    },
    {
      "cell_type": "markdown",
      "source": [
        "\n",
        " The 13 columns in the playstore dataset are identified as below:\n",
        "1. **App** - It tells us about the name of the application with a short description.\n",
        "2. **Category** - It gives the category to the application.\n",
        "3. **Rating** - It contains the average rating of the respective app received from its users.\n",
        "4. **Reviews** - It tells us about the total number of users who have given a review for the application.\n",
        "5. **Size** - It tells us about the size being occupied by the application on the mobile phone.\n",
        "6. **Installs** - It tells us about the total number of downloads for an application.\n",
        "7. **Type** - IIt states whether an app is free to use or is it a paid.\n",
        "8. **Price** - It gives the price payable to install the app. For free type apps, the price is zero.\n",
        "9. **Content Rating** - It states whether or not an app is suitable for all age groups or not.\n",
        "10. **Genres** - It tells us about the various other categories to which an application belongs to.\n",
        "11. **Last Updated** - It tells us about the when the application was updated.\n",
        "12. **Current Ver** - It tells us about the current version of the android application.\n",
        "13.**Android Ver** - It tells us about the android version which support the application on its platform."
      ],
      "metadata": {
        "id": "watyi4xNjanr"
      }
    },
    {
      "cell_type": "code",
      "source": [
        "# Dataset Describe\n",
        "psd_df.describe()\n",
        "# psd_df.describe(include='all')# It is used to display  statistical information of all the columns"
      ],
      "metadata": {
        "id": "DnOaZdaE5Q5t"
      },
      "execution_count": null,
      "outputs": []
    },
    {
      "cell_type": "markdown",
      "source": [
        "### Variables Description"
      ],
      "metadata": {
        "id": "PBTbrJXOngz2"
      }
    },
    {
      "cell_type": "markdown",
      "source": [
        "Here, it will show the short description of Statistical Information\n",
        "\n",
        "\n",
        "*   **Count:** The number of non null values are 9367\n",
        "*   **Mean:**The mean value of column is 4.193338\n",
        "*   **Standard Deviation:** Th std of the column is 0.537431\n",
        "*   **Minimum Value:** The min value of column is 1.0000000\n",
        "*   **25% value:** The 25th percentile of the column is 4.0000000\n",
        "*   **50% value:**The 50th percentile of the column is 4.3000000\n",
        "*   **75% value:**The 75th percentile of the column is 4.5000000\n",
        "*   **Maximum Value:**The max value of column is 19.0000000\n"
      ],
      "metadata": {
        "id": "aJV4KIxSnxay"
      }
    },
    {
      "cell_type": "markdown",
      "source": [
        "### Check Unique Values for each variable."
      ],
      "metadata": {
        "id": "u3PMJOP6ngxN"
      }
    },
    {
      "cell_type": "code",
      "source": [
        "# Check Unique Values for each variable.\n",
        "for i in psd_df.columns.to_list():\n",
        "  print(\"Unique values in\" ,i, \"is\",psd_df[i].nunique())"
      ],
      "metadata": {
        "id": "zms12Yq5n-jE"
      },
      "execution_count": null,
      "outputs": []
    },
    {
      "cell_type": "markdown",
      "source": [
        "In above unique values are more in App column which is around 9660"
      ],
      "metadata": {
        "id": "xWYIsKNbsvwR"
      }
    },
    {
      "cell_type": "markdown",
      "source": [
        "## 3. ***Data Wrangling***"
      ],
      "metadata": {
        "id": "dauF4eBmngu3"
      }
    },
    {
      "cell_type": "markdown",
      "source": [
        "### Data Wrangling Code"
      ],
      "metadata": {
        "id": "bKJF3rekwFvQ"
      }
    },
    {
      "cell_type": "code",
      "source": [
        "# Write your code to make your dataset analysis ready.\n",
        "# Dataset Information about various attributes of Dataset\n",
        "def Playstore_data():\n",
        "  temp=pd.DataFrame(index=psd_df.columns)\n",
        "  temp['Datatypes']=psd_df.dtypes\n",
        "  temp['Not Null Values']=psd_df.count()\n",
        "  temp['Null Values']=psd_df.isnull().sum()\n",
        "  temp['% ratio of Null Values']=psd_df.isnull().mean()\n",
        "  temp['Unique Values']=psd_df.nunique()\n",
        "  temp[\"Duplicate Values\"]=psd_df.duplicated().sum()\n",
        "  return temp\n",
        "Playstore_data()\n"
      ],
      "metadata": {
        "id": "wk-9a2fpoLcV"
      },
      "execution_count": null,
      "outputs": []
    },
    {
      "cell_type": "code",
      "source": [
        "psd_df.boxplot()"
      ],
      "metadata": {
        "id": "rjtrJkwQAmCN"
      },
      "execution_count": null,
      "outputs": []
    },
    {
      "cell_type": "markdown",
      "source": [
        "Here Rating min value is around 3.0 and Max value is 5.0, but we can see in the boxplot their is an outlier which exceeds the Max value"
      ],
      "metadata": {
        "id": "GAPOIW06Dde4"
      }
    },
    {
      "cell_type": "code",
      "source": [
        "psd_df[psd_df['Rating']> 5]"
      ],
      "metadata": {
        "id": "4MBQ3ROgCHvw"
      },
      "execution_count": null,
      "outputs": []
    },
    {
      "cell_type": "markdown",
      "source": [
        "**There is some problem in above row**\n",
        "1. It is having Rating 19.0\n",
        "2. NaN values in Content Rating and Android Ver.\n",
        "\n",
        "So, here we are droping this row"
      ],
      "metadata": {
        "id": "jm7qs-jODBuK"
      }
    },
    {
      "cell_type": "code",
      "source": [
        "psd_df.drop(10472,inplace=True)"
      ],
      "metadata": {
        "id": "qNfDNWDlE7t1"
      },
      "execution_count": null,
      "outputs": []
    },
    {
      "cell_type": "markdown",
      "source": [
        "Now we are checking whether it is removed or not"
      ],
      "metadata": {
        "id": "v0gE7TGEFq13"
      }
    },
    {
      "cell_type": "code",
      "source": [
        "psd_df.boxplot()"
      ],
      "metadata": {
        "id": "Vtsg_YiZF08V"
      },
      "execution_count": null,
      "outputs": []
    },
    {
      "cell_type": "markdown",
      "source": [
        "Now, in this dataset still we have 1474 Null values in the Rating column. So here we are finding the Mean and Median of that column to fix it"
      ],
      "metadata": {
        "id": "elhfbmsVHBgl"
      }
    },
    {
      "cell_type": "code",
      "source": [
        "# Finding Mean\n",
        "rating_mean= psd_df['Rating'].mean()\n",
        "print(f\"Mean value of Rating is {rating_mean}\")\n",
        "# Finding Median\n",
        "rating_median= psd_df['Rating'].median()\n",
        "print(f\"Median value of Rating is {rating_median}\")"
      ],
      "metadata": {
        "id": "ScFeFLKkHrq7"
      },
      "execution_count": null,
      "outputs": []
    },
    {
      "cell_type": "markdown",
      "source": [
        "Here in above :\n",
        "1.  Mean value is approx to 4.2\n",
        "2.  Median value is  4.3\n",
        "\n",
        "Their is only a minute difference betweeen Mean and Median\n",
        "So here we replace all Null values with Median, 50% of Apps are having 4.3 and above Rating\n"
      ],
      "metadata": {
        "id": "6EzgVY0NI2A1"
      }
    },
    {
      "cell_type": "code",
      "source": [
        "psd_df['Rating'].fillna(value=rating_median,inplace=True)"
      ],
      "metadata": {
        "id": "-AtSc2phKIvJ"
      },
      "execution_count": null,
      "outputs": []
    },
    {
      "cell_type": "code",
      "source": [
        "# Here, checking the null values are filled or not\n",
        "psd_df.isnull().sum()"
      ],
      "metadata": {
        "id": "5jvH5hDgKxbQ"
      },
      "execution_count": null,
      "outputs": []
    },
    {
      "cell_type": "markdown",
      "source": [],
      "metadata": {
        "id": "BO9ZSPtnE1YV"
      }
    },
    {
      "cell_type": "markdown",
      "source": [
        "Now, there are still some problemsin the columns that we have to fix\n",
        "\n",
        "*   The Type has 1 NaN value.\n",
        "*   The Current Ver contains 8 NaN values.\n",
        "*   The Android Ver contains 2 NaN values."
      ],
      "metadata": {
        "id": "Xf4AUuWbvpmC"
      }
    },
    {
      "cell_type": "markdown",
      "source": [
        "# **Replacing Type NaN Values**"
      ],
      "metadata": {
        "id": "vhJrFWGVzP2j"
      }
    },
    {
      "cell_type": "code",
      "source": [
        "# Here we are checking Nan values in Type column\n",
        "psd_df[psd_df['Type'].isnull()]"
      ],
      "metadata": {
        "id": "tWOVfCJiv5nU"
      },
      "execution_count": null,
      "outputs": []
    },
    {
      "cell_type": "markdown",
      "source": [
        "In above, we can see Price is 0, so it is a Free App. So, we we replace NaN with Free"
      ],
      "metadata": {
        "id": "GswtNpSZwa7G"
      }
    },
    {
      "cell_type": "code",
      "source": [
        "# Checking How many Apps are Free and Paid\n",
        "psd_df['Type'].value_counts()"
      ],
      "metadata": {
        "id": "JkNLeHquxCKo"
      },
      "execution_count": null,
      "outputs": []
    },
    {
      "cell_type": "code",
      "source": [
        "# Replacing NaN with Free\n",
        "psd_df.loc[9148,'Type']='Free'"
      ],
      "metadata": {
        "id": "dQGIAo8pxxy6"
      },
      "execution_count": null,
      "outputs": []
    },
    {
      "cell_type": "code",
      "source": [
        "# Now, We are checking is it replaced with Free or not\n",
        "psd_df[psd_df['Type'].isnull()]"
      ],
      "metadata": {
        "id": "4m0pnzmEyfSd"
      },
      "execution_count": null,
      "outputs": []
    },
    {
      "cell_type": "markdown",
      "source": [
        "# **Replacing Current Ver NaN Values**"
      ],
      "metadata": {
        "id": "xfqLtuxszc2e"
      }
    },
    {
      "cell_type": "code",
      "source": [
        "# Here we are checking Nan values in Current Ver column\n",
        "psd_df[psd_df['Current Ver'].isnull()]"
      ],
      "metadata": {
        "id": "8yh_hxFnzwx-"
      },
      "execution_count": null,
      "outputs": []
    },
    {
      "cell_type": "markdown",
      "source": [
        "We are having 8 Nan Values, so we are dropping all 8 Nan values"
      ],
      "metadata": {
        "id": "TEifuGITz--N"
      }
    },
    {
      "cell_type": "code",
      "source": [
        "# Dropping all 8 Nan values fro Current Ver column\n",
        "psd_df.drop([15,1553,6322,6803,7333,7407,7730,10342],axis=0,inplace=True)"
      ],
      "metadata": {
        "id": "3eSs-lKZ0bkG"
      },
      "execution_count": null,
      "outputs": []
    },
    {
      "cell_type": "code",
      "source": [
        "# Now, We are checking Whether the rows have been dropped or not\n",
        "psd_df[psd_df['Current Ver'].isnull()]"
      ],
      "metadata": {
        "id": "WPDGj6s21wXN"
      },
      "execution_count": null,
      "outputs": []
    },
    {
      "cell_type": "markdown",
      "source": [
        "# **Replacing Android Ver NaN Values**"
      ],
      "metadata": {
        "id": "6OYbTOY42GSU"
      }
    },
    {
      "cell_type": "code",
      "source": [
        "# Here we are checking Nan values in Android  Ver column\n",
        "psd_df[psd_df['Android Ver'].isnull()]"
      ],
      "metadata": {
        "id": "RxJLQwy92O_z"
      },
      "execution_count": null,
      "outputs": []
    },
    {
      "cell_type": "markdown",
      "source": [
        "Here, we have 2 Nan values so we are dropping 2 Nan values as well"
      ],
      "metadata": {
        "id": "qS-GtOSQ2nQW"
      }
    },
    {
      "cell_type": "code",
      "source": [
        "# Dropping 2 Nan values from Android Ver column\n",
        "psd_df.drop([4453,4490],axis=0,inplace=True)"
      ],
      "metadata": {
        "id": "CC46TKdK26B9"
      },
      "execution_count": null,
      "outputs": []
    },
    {
      "cell_type": "code",
      "source": [
        "# Here we are checking Nan values in Android  Ver are droped or not\n",
        "psd_df[psd_df['Android Ver'].isnull()]"
      ],
      "metadata": {
        "id": "WEXfwJdh3OXo"
      },
      "execution_count": null,
      "outputs": []
    },
    {
      "cell_type": "markdown",
      "source": [
        "## **Now its the Time to Handle all the Data Types for Every Column**"
      ],
      "metadata": {
        "id": "g9TzBPCd3c6d"
      }
    },
    {
      "cell_type": "code",
      "source": [
        "psd_df['Size'].value_counts()"
      ],
      "metadata": {
        "id": "l1heDJg85Wa8"
      },
      "execution_count": null,
      "outputs": []
    },
    {
      "cell_type": "markdown",
      "source": [
        "**The Size column has different Uniyts**\n",
        "\n",
        "1. 'K' for KB\n",
        "2. 'M' for MB"
      ],
      "metadata": {
        "id": "KH188nOo7T0K"
      }
    },
    {
      "cell_type": "code",
      "source": [
        "# Checking datatype of Price\n",
        "psd_df['Price'].value_counts()"
      ],
      "metadata": {
        "id": "DwLtls12r6j7"
      },
      "execution_count": null,
      "outputs": []
    },
    {
      "cell_type": "markdown",
      "source": [
        "Here, $ symbol in Price will create a problem ,so we remove it"
      ],
      "metadata": {
        "id": "ZcYR1L91y4zf"
      }
    },
    {
      "cell_type": "code",
      "source": [
        "# We are removing the $ symbol\n",
        "def price(p):\n",
        "  if type(p)==str and '$' in p:\n",
        "    p=p.replace('$', '')\n",
        "  return p\n"
      ],
      "metadata": {
        "id": "6l9NWWepzLFx"
      },
      "execution_count": null,
      "outputs": []
    },
    {
      "cell_type": "code",
      "source": [
        "psd_df['Price']=psd_df['Price'].apply(lambda x: price(x))\n",
        "psd_df['Price']"
      ],
      "metadata": {
        "id": "8OF2KtMnCa9X"
      },
      "execution_count": null,
      "outputs": []
    },
    {
      "cell_type": "code",
      "source": [
        "# Checking datatype of Installs\n",
        "psd_df['Installs'].value_counts()"
      ],
      "metadata": {
        "id": "9JSAwHba1kw7"
      },
      "execution_count": null,
      "outputs": []
    },
    {
      "cell_type": "markdown",
      "source": [
        "Here, in Installs we need to remove (,) and (+) sign\n"
      ],
      "metadata": {
        "id": "fnMRS2033z33"
      }
    },
    {
      "cell_type": "code",
      "source": [
        "# We are removing the comma , and + sign\n",
        "def comma_plus(val):\n",
        "  '''\n",
        "  This function drops the + symbol if present and returns the value with int datatype.\n",
        "  '''\n",
        "  if '+' and ',' in val:\n",
        "    new=(val[:-1].replace(',',''))\n",
        "    return new\n",
        "  elif '+' in val:\n",
        "    new1=(val[:-1])\n",
        "    return new1\n",
        "  else:\n",
        "    return (val)\n"
      ],
      "metadata": {
        "id": "KvE1db8e4JV4"
      },
      "execution_count": null,
      "outputs": []
    },
    {
      "cell_type": "code",
      "source": [
        "psd_df['Installs']=psd_df['Installs'].apply(lambda x: comma_plus(x))\n",
        "psd_df.head(5)"
      ],
      "metadata": {
        "id": "9cQPMbaXBOXl"
      },
      "execution_count": null,
      "outputs": []
    },
    {
      "cell_type": "code",
      "source": [
        "# Now we're converting 'Reviews' to numeric\n",
        "def convertKB_MB(val):\n",
        "  '''\n",
        "  This function converts all the valid entries in KB to MB and returns the result in float datatype.\n",
        "  '''\n",
        "  try:\n",
        "    if 'M' in val:\n",
        "      return float(val[:-1])\n",
        "    elif 'k' in val:\n",
        "      return round(float(val[:-1])/1024, 4)\n",
        "    else:\n",
        "      return val\n",
        "  except:\n",
        "    return val\n"
      ],
      "metadata": {
        "id": "96g_LWNJ5TNa"
      },
      "execution_count": null,
      "outputs": []
    },
    {
      "cell_type": "code",
      "source": [
        "psd_df['Size']=psd_df['Size'].apply(lambda x: convertKB_MB(x))\n",
        "psd_df.head()"
      ],
      "metadata": {
        "id": "KfHmBP7l0Bfx"
      },
      "execution_count": null,
      "outputs": []
    },
    {
      "cell_type": "markdown",
      "source": [
        "# **Here, We are replacing Size \"Varies with Device\" with NaN Values**"
      ],
      "metadata": {
        "id": "UP9OoDRUcyzT"
      }
    },
    {
      "cell_type": "code",
      "source": [
        "psd_df[psd_df['Size']=='Varies with device']"
      ],
      "metadata": {
        "id": "qoSQvkoWefVr"
      },
      "execution_count": null,
      "outputs": []
    },
    {
      "cell_type": "code",
      "source": [
        "psd_df['Size']=psd_df['Size'].apply(lambda x: str(x).replace('Varies with device','NaN') if 'Varies with device' in str(x) else x)\n",
        "psd_df[psd_df['Size']=='NaN']"
      ],
      "metadata": {
        "id": "C04roQF_eOsF"
      },
      "execution_count": null,
      "outputs": []
    },
    {
      "cell_type": "markdown",
      "source": [
        "# **Removing Duplicate Values**"
      ],
      "metadata": {
        "id": "Oq3UMZ44mXNH"
      }
    },
    {
      "cell_type": "code",
      "source": [
        "# Handling  Duplicate  data\n",
        "psd_df.head()"
      ],
      "metadata": {
        "id": "XROuxR8zm0EJ"
      },
      "execution_count": null,
      "outputs": []
    },
    {
      "cell_type": "code",
      "source": [
        "psd_df['App'].value_counts()"
      ],
      "metadata": {
        "id": "wpHafWJ0qncF"
      },
      "execution_count": null,
      "outputs": []
    },
    {
      "cell_type": "markdown",
      "source": [
        "Here we have found ROBOLOX has duplicated 9 times, and similarly other apps are also duplicated"
      ],
      "metadata": {
        "id": "a1X9_nYhuwkH"
      }
    },
    {
      "cell_type": "code",
      "source": [
        "psd_df[psd_df['App']=='ROBLOX']"
      ],
      "metadata": {
        "id": "zfYkmD8Bqydy"
      },
      "execution_count": null,
      "outputs": []
    },
    {
      "cell_type": "code",
      "source": [
        "psd_df[psd_df.duplicated()]"
      ],
      "metadata": {
        "id": "tN1GpaPptdYA"
      },
      "execution_count": null,
      "outputs": []
    },
    {
      "cell_type": "code",
      "source": [
        "# We are dropping all the duplicate values\n",
        "psd_df.drop_duplicates(subset='App',inplace=True)\n",
        "psd_df.shape"
      ],
      "metadata": {
        "id": "TjFzxKMZvXeU"
      },
      "execution_count": null,
      "outputs": []
    },
    {
      "cell_type": "code",
      "source": [
        "# Checking whether duplicates are removed from App column\n",
        "psd_df[psd_df['App']=='ROBLOX']\n",
        "# psd_df.shape"
      ],
      "metadata": {
        "id": "0SvODE6RwBoI"
      },
      "execution_count": null,
      "outputs": []
    },
    {
      "cell_type": "markdown",
      "source": [
        "**After Dropping the values from App Column, the total number of rows dropped to  9660**"
      ],
      "metadata": {
        "id": "sBHa7jGdwvSA"
      }
    },
    {
      "cell_type": "markdown",
      "source": [],
      "metadata": {
        "id": "aVbl_ayTmtQn"
      }
    },
    {
      "cell_type": "code",
      "source": [
        "psd_df['App'].duplicated().sum()"
      ],
      "metadata": {
        "id": "FZJFOc3GACPg"
      },
      "execution_count": null,
      "outputs": []
    },
    {
      "cell_type": "code",
      "source": [
        "psd_df.shape"
      ],
      "metadata": {
        "id": "jCAObOGJAc0M"
      },
      "execution_count": null,
      "outputs": []
    },
    {
      "cell_type": "code",
      "source": [
        "psd_df.describe()"
      ],
      "metadata": {
        "id": "IE8E51tJNWno"
      },
      "execution_count": null,
      "outputs": []
    },
    {
      "cell_type": "markdown",
      "source": [],
      "metadata": {
        "id": "E-cVWdxiA4ml"
      }
    },
    {
      "cell_type": "markdown",
      "source": [
        "## **Summary**\n",
        "\n",
        "*   All duplicates values removed from dataset.\n",
        "*   All null values are removed or replaced.  \n",
        "*   Converted the datatypes of the particular column and also removed all the unwanted characters."
      ],
      "metadata": {
        "id": "aaEwi9gMATTU"
      }
    },
    {
      "cell_type": "markdown",
      "source": [
        "# **2nd Step: Data Cleaning on User Reviews Dataset**"
      ],
      "metadata": {
        "id": "HNyQUdm0BDNI"
      }
    },
    {
      "cell_type": "code",
      "source": [
        "urd_path=\"/content/drive/MyDrive/DS_Notes/EDA_Project/Dataset/User_Reviews.csv\"\n",
        "urd_df=pd.read_csv(urd_path)"
      ],
      "metadata": {
        "id": "97bKVhNkEHAf"
      },
      "execution_count": null,
      "outputs": []
    },
    {
      "cell_type": "code",
      "source": [
        "# Dataset First Look of userReview Data\n",
        "dataview_user_review= pd.concat([urd_df.head(),urd_df.tail()])\n",
        "dataview_user_review"
      ],
      "metadata": {
        "id": "-iRoZvoaEvbX"
      },
      "execution_count": null,
      "outputs": []
    },
    {
      "cell_type": "markdown",
      "source": [
        "**No of Rows and Columns in Dataset of User Review**"
      ],
      "metadata": {
        "id": "XuEAGtBfFoSb"
      }
    },
    {
      "cell_type": "code",
      "source": [
        "# Dataset Rows & Columns count of UserReview Data\n",
        "print(urd_df.columns)\n",
        "rows=urd_df.shape[0]\n",
        "cols= urd_df.shape[1]\n",
        "print(f\"The number of rows are {rows} and columns are {cols}\")"
      ],
      "metadata": {
        "id": "6eNuLYZDE_PX"
      },
      "execution_count": null,
      "outputs": []
    },
    {
      "cell_type": "markdown",
      "source": [
        "**Dataset Information of User Review**"
      ],
      "metadata": {
        "id": "iWTzYi0EFcgC"
      }
    },
    {
      "cell_type": "code",
      "source": [
        "# Dataset Info User Review Data\n",
        "print(\"=*=*=*=*=*=*=*=*=*Data information=*=*=*=*=*=*=*=*=*=*=*=*=\")\n",
        "urd_df.info()\n",
        "print(\"=*=*=*=*=*=*=*=*=*Data Describe=*=*=*=*=*=*=*=*=*=*=*=*=\")\n",
        "urd_df.describe(include='all')"
      ],
      "metadata": {
        "id": "bDiYLM0gFZYf"
      },
      "execution_count": null,
      "outputs": []
    },
    {
      "cell_type": "markdown",
      "source": [
        "**Duplicated Values**"
      ],
      "metadata": {
        "id": "TaLgeftpHLBL"
      }
    },
    {
      "cell_type": "code",
      "source": [
        "duplicate_values=len(urd_df[urd_df.duplicated])\n",
        "print(\"The number of Duplicated Values are\",duplicate_values)"
      ],
      "metadata": {
        "id": "QwA5YR72HRh2"
      },
      "execution_count": null,
      "outputs": []
    },
    {
      "cell_type": "markdown",
      "source": [
        "**Missing or Null Values**"
      ],
      "metadata": {
        "id": "7x_w68juHyEx"
      }
    },
    {
      "cell_type": "code",
      "source": [
        "# Missing Values/Null Values Count User Review Data\n",
        "print(urd_df.isnull().sum())"
      ],
      "metadata": {
        "id": "4sYIRQ9LH4b-"
      },
      "execution_count": null,
      "outputs": []
    },
    {
      "cell_type": "code",
      "source": [
        "# Visualizing the missing values\n",
        "# Create the bar plot\n",
        "missing = urd_df.isnull()\n",
        "missing_sum = missing.sum().sort_values(ascending=False)\n",
        "\n",
        "missing_sum.plot(kind='bar')\n",
        "plt.ylabel('Number of Missing Values')\n",
        "plt.xlabel('Columns Name')\n",
        "plt.title(' Missing Values by Column')\n",
        "plt.xticks(rotation=90)  # Rotate x-axis labels for better readability if needed\n",
        "plt.tight_layout()  # Ensures the labels fit within the plot area\n",
        "plt.show()"
      ],
      "metadata": {
        "id": "MRMJEhSoIOPq"
      },
      "execution_count": null,
      "outputs": []
    },
    {
      "cell_type": "markdown",
      "source": [
        "In the bove dataset we have seen that\n",
        "\n",
        "1. Translated_Review column is having 26868 missing values\n",
        "2. Sentiment is having 26863 missing values\n",
        "3. Sentiment_Polarity is having 26863 missing values\n",
        "4. Sentiment_Subjectivity is having 26863 missing values\n",
        "\n",
        "So, here in these rows of datasets we have missing values in these columns, in order to analyze the dataset, it is important to handle the missing values."
      ],
      "metadata": {
        "id": "rZUheHeDIi5-"
      }
    },
    {
      "cell_type": "markdown",
      "source": [
        "# The dataset has 5 columns identified as below:\n",
        "\n",
        "\n",
        "1.   **App:** Title of the application.\n",
        "2.   **Translated_Review:** It contains the English translation of the review.\n",
        "3.   **Sentiment:** It gives the emotion like ‘Positive’, ‘Negative’, or ‘Neutral’.\n",
        "4.   **Sentiment_Polarity:** It gives the polarity of the review. Its range is [-1,1], where 1 means ‘Positive statement’ and -1 means a ‘Negative statement’.\n",
        "5.    **Sentiment_Subjectivity:** This value gives how close a reviewers opinion is to the opinion of the general public. Its range is[0,1]."
      ],
      "metadata": {
        "id": "5n1dofp5KBki"
      }
    },
    {
      "cell_type": "code",
      "source": [
        "# Dataset Describe\n",
        "urd_df.describe()\n",
        "# psd_df.describe(include='all')# It is used to display  statistical information of all the columns"
      ],
      "metadata": {
        "id": "oGITyuSpLHM3"
      },
      "execution_count": null,
      "outputs": []
    },
    {
      "cell_type": "markdown",
      "source": [
        "Checking Unique Values"
      ],
      "metadata": {
        "id": "yMgHA7CILsq-"
      }
    },
    {
      "cell_type": "code",
      "source": [
        "# Check Unique Values for each variable.\n",
        "for i in urd_df.columns.to_list():\n",
        "  print(\"Unique values in\" ,i, \"is\",urd_df[i].nunique())"
      ],
      "metadata": {
        "id": "Guumq8baLybP"
      },
      "execution_count": null,
      "outputs": []
    },
    {
      "cell_type": "code",
      "source": [
        "# Dataset Information about various attributes of Dataset\n",
        "def User_Review():\n",
        "  temp=pd.DataFrame(index=urd_df.columns)\n",
        "  temp['Datatypes']=urd_df.dtypes\n",
        "  temp['Not Null Values']=urd_df.count()\n",
        "  temp['Null Values']=urd_df.isnull().sum()\n",
        "  temp['% ratio of Null Values']=urd_df.isnull().mean()\n",
        "  temp['Unique Values']=urd_df.nunique()\n",
        "  temp[\"Duplicate Values\"]=urd_df.duplicated().sum()\n",
        "  return temp\n",
        "User_Review()\n"
      ],
      "metadata": {
        "id": "t2Xw95EaL8rF"
      },
      "execution_count": null,
      "outputs": []
    },
    {
      "cell_type": "code",
      "source": [
        "urd_df.boxplot()"
      ],
      "metadata": {
        "id": "BRLOS2EZMclM"
      },
      "execution_count": null,
      "outputs": []
    },
    {
      "cell_type": "markdown",
      "source": [
        "### What all manipulations have you done and insights you found?"
      ],
      "metadata": {
        "id": "MSa1f5Uengrz"
      }
    },
    {
      "cell_type": "markdown",
      "source": [
        "Answer Here."
      ],
      "metadata": {
        "id": "LbyXE7I1olp8"
      }
    },
    {
      "cell_type": "markdown",
      "source": [
        "## ***4. Data Vizualization, Storytelling & Experimenting with charts : Understand the relationships between variables***"
      ],
      "metadata": {
        "id": "GF8Ens_Soomf"
      }
    },
    {
      "cell_type": "markdown",
      "source": [
        "#### Chart - 1"
      ],
      "metadata": {
        "id": "0wOQAZs5pc--"
      }
    },
    {
      "cell_type": "code",
      "source": [
        "# Chart - 1 visualization code"
      ],
      "metadata": {
        "id": "7v_ESjsspbW7"
      },
      "execution_count": null,
      "outputs": []
    },
    {
      "cell_type": "markdown",
      "source": [
        "##### 1. Why did you pick the specific chart?"
      ],
      "metadata": {
        "id": "K5QZ13OEpz2H"
      }
    },
    {
      "cell_type": "markdown",
      "source": [
        "Answer Here."
      ],
      "metadata": {
        "id": "XESiWehPqBRc"
      }
    },
    {
      "cell_type": "markdown",
      "source": [
        "##### 2. What is/are the insight(s) found from the chart?"
      ],
      "metadata": {
        "id": "lQ7QKXXCp7Bj"
      }
    },
    {
      "cell_type": "markdown",
      "source": [
        "Answer Here"
      ],
      "metadata": {
        "id": "C_j1G7yiqdRP"
      }
    },
    {
      "cell_type": "markdown",
      "source": [
        "##### 3. Will the gained insights help creating a positive business impact?\n",
        "Are there any insights that lead to negative growth? Justify with specific reason."
      ],
      "metadata": {
        "id": "448CDAPjqfQr"
      }
    },
    {
      "cell_type": "markdown",
      "source": [
        "Answer Here"
      ],
      "metadata": {
        "id": "3cspy4FjqxJW"
      }
    },
    {
      "cell_type": "markdown",
      "source": [
        "#### Chart - 2"
      ],
      "metadata": {
        "id": "KSlN3yHqYklG"
      }
    },
    {
      "cell_type": "code",
      "source": [
        "# Chart - 2 visualization code"
      ],
      "metadata": {
        "id": "R4YgtaqtYklH"
      },
      "execution_count": null,
      "outputs": []
    },
    {
      "cell_type": "markdown",
      "source": [
        "##### 1. Why did you pick the specific chart?"
      ],
      "metadata": {
        "id": "t6dVpIINYklI"
      }
    },
    {
      "cell_type": "markdown",
      "source": [
        "Answer Here."
      ],
      "metadata": {
        "id": "5aaW0BYyYklI"
      }
    },
    {
      "cell_type": "markdown",
      "source": [
        "##### 2. What is/are the insight(s) found from the chart?"
      ],
      "metadata": {
        "id": "ijmpgYnKYklI"
      }
    },
    {
      "cell_type": "markdown",
      "source": [
        "Answer Here"
      ],
      "metadata": {
        "id": "PSx9atu2YklI"
      }
    },
    {
      "cell_type": "markdown",
      "source": [
        "##### 3. Will the gained insights help creating a positive business impact?\n",
        "Are there any insights that lead to negative growth? Justify with specific reason."
      ],
      "metadata": {
        "id": "-JiQyfWJYklI"
      }
    },
    {
      "cell_type": "markdown",
      "source": [
        "Answer Here"
      ],
      "metadata": {
        "id": "BcBbebzrYklV"
      }
    },
    {
      "cell_type": "markdown",
      "source": [
        "#### Chart - 3"
      ],
      "metadata": {
        "id": "EM7whBJCYoAo"
      }
    },
    {
      "cell_type": "code",
      "source": [
        "# Chart - 3 visualization code"
      ],
      "metadata": {
        "id": "t6GMdE67YoAp"
      },
      "execution_count": null,
      "outputs": []
    },
    {
      "cell_type": "markdown",
      "source": [
        "##### 1. Why did you pick the specific chart?"
      ],
      "metadata": {
        "id": "fge-S5ZAYoAp"
      }
    },
    {
      "cell_type": "markdown",
      "source": [
        "Answer Here."
      ],
      "metadata": {
        "id": "5dBItgRVYoAp"
      }
    },
    {
      "cell_type": "markdown",
      "source": [
        "##### 2. What is/are the insight(s) found from the chart?"
      ],
      "metadata": {
        "id": "85gYPyotYoAp"
      }
    },
    {
      "cell_type": "markdown",
      "source": [
        "Answer Here"
      ],
      "metadata": {
        "id": "4jstXR6OYoAp"
      }
    },
    {
      "cell_type": "markdown",
      "source": [
        "##### 3. Will the gained insights help creating a positive business impact?\n",
        "Are there any insights that lead to negative growth? Justify with specific reason."
      ],
      "metadata": {
        "id": "RoGjAbkUYoAp"
      }
    },
    {
      "cell_type": "markdown",
      "source": [
        "Answer Here"
      ],
      "metadata": {
        "id": "zfJ8IqMcYoAp"
      }
    },
    {
      "cell_type": "markdown",
      "source": [
        "#### Chart - 4"
      ],
      "metadata": {
        "id": "4Of9eVA-YrdM"
      }
    },
    {
      "cell_type": "code",
      "source": [
        "# Chart - 4 visualization code"
      ],
      "metadata": {
        "id": "irlUoxc8YrdO"
      },
      "execution_count": null,
      "outputs": []
    },
    {
      "cell_type": "markdown",
      "source": [
        "##### 1. Why did you pick the specific chart?"
      ],
      "metadata": {
        "id": "iky9q4vBYrdO"
      }
    },
    {
      "cell_type": "markdown",
      "source": [
        "Answer Here."
      ],
      "metadata": {
        "id": "aJRCwT6DYrdO"
      }
    },
    {
      "cell_type": "markdown",
      "source": [
        "##### 2. What is/are the insight(s) found from the chart?"
      ],
      "metadata": {
        "id": "F6T5p64dYrdO"
      }
    },
    {
      "cell_type": "markdown",
      "source": [
        "Answer Here"
      ],
      "metadata": {
        "id": "Xx8WAJvtYrdO"
      }
    },
    {
      "cell_type": "markdown",
      "source": [
        "##### 3. Will the gained insights help creating a positive business impact?\n",
        "Are there any insights that lead to negative growth? Justify with specific reason."
      ],
      "metadata": {
        "id": "y-Ehk30pYrdP"
      }
    },
    {
      "cell_type": "markdown",
      "source": [
        "Answer Here"
      ],
      "metadata": {
        "id": "jLNxxz7MYrdP"
      }
    },
    {
      "cell_type": "markdown",
      "source": [
        "#### Chart - 5"
      ],
      "metadata": {
        "id": "bamQiAODYuh1"
      }
    },
    {
      "cell_type": "code",
      "source": [
        "# Chart - 5 visualization code"
      ],
      "metadata": {
        "id": "TIJwrbroYuh3"
      },
      "execution_count": null,
      "outputs": []
    },
    {
      "cell_type": "markdown",
      "source": [
        "##### 1. Why did you pick the specific chart?"
      ],
      "metadata": {
        "id": "QHF8YVU7Yuh3"
      }
    },
    {
      "cell_type": "markdown",
      "source": [
        "Answer Here."
      ],
      "metadata": {
        "id": "dcxuIMRPYuh3"
      }
    },
    {
      "cell_type": "markdown",
      "source": [
        "##### 2. What is/are the insight(s) found from the chart?"
      ],
      "metadata": {
        "id": "GwzvFGzlYuh3"
      }
    },
    {
      "cell_type": "markdown",
      "source": [
        "Answer Here"
      ],
      "metadata": {
        "id": "uyqkiB8YYuh3"
      }
    },
    {
      "cell_type": "markdown",
      "source": [
        "##### 3. Will the gained insights help creating a positive business impact?\n",
        "Are there any insights that lead to negative growth? Justify with specific reason."
      ],
      "metadata": {
        "id": "qYpmQ266Yuh3"
      }
    },
    {
      "cell_type": "markdown",
      "source": [
        "Answer Here"
      ],
      "metadata": {
        "id": "_WtzZ_hCYuh4"
      }
    },
    {
      "cell_type": "markdown",
      "source": [
        "#### Chart - 6"
      ],
      "metadata": {
        "id": "OH-pJp9IphqM"
      }
    },
    {
      "cell_type": "code",
      "source": [
        "# Chart - 6 visualization code"
      ],
      "metadata": {
        "id": "kuRf4wtuphqN"
      },
      "execution_count": null,
      "outputs": []
    },
    {
      "cell_type": "markdown",
      "source": [
        "##### 1. Why did you pick the specific chart?"
      ],
      "metadata": {
        "id": "bbFf2-_FphqN"
      }
    },
    {
      "cell_type": "markdown",
      "source": [
        "Answer Here."
      ],
      "metadata": {
        "id": "loh7H2nzphqN"
      }
    },
    {
      "cell_type": "markdown",
      "source": [
        "##### 2. What is/are the insight(s) found from the chart?"
      ],
      "metadata": {
        "id": "_ouA3fa0phqN"
      }
    },
    {
      "cell_type": "markdown",
      "source": [
        "Answer Here"
      ],
      "metadata": {
        "id": "VECbqPI7phqN"
      }
    },
    {
      "cell_type": "markdown",
      "source": [
        "##### 3. Will the gained insights help creating a positive business impact?\n",
        "Are there any insights that lead to negative growth? Justify with specific reason."
      ],
      "metadata": {
        "id": "Seke61FWphqN"
      }
    },
    {
      "cell_type": "markdown",
      "source": [
        "Answer Here"
      ],
      "metadata": {
        "id": "DW4_bGpfphqN"
      }
    },
    {
      "cell_type": "markdown",
      "source": [
        "#### Chart - 7"
      ],
      "metadata": {
        "id": "PIIx-8_IphqN"
      }
    },
    {
      "cell_type": "code",
      "source": [
        "# Chart - 7 visualization code"
      ],
      "metadata": {
        "id": "lqAIGUfyphqO"
      },
      "execution_count": null,
      "outputs": []
    },
    {
      "cell_type": "markdown",
      "source": [
        "##### 1. Why did you pick the specific chart?"
      ],
      "metadata": {
        "id": "t27r6nlMphqO"
      }
    },
    {
      "cell_type": "markdown",
      "source": [
        "Answer Here."
      ],
      "metadata": {
        "id": "iv6ro40sphqO"
      }
    },
    {
      "cell_type": "markdown",
      "source": [
        "##### 2. What is/are the insight(s) found from the chart?"
      ],
      "metadata": {
        "id": "r2jJGEOYphqO"
      }
    },
    {
      "cell_type": "markdown",
      "source": [
        "Answer Here"
      ],
      "metadata": {
        "id": "Po6ZPi4hphqO"
      }
    },
    {
      "cell_type": "markdown",
      "source": [
        "##### 3. Will the gained insights help creating a positive business impact?\n",
        "Are there any insights that lead to negative growth? Justify with specific reason."
      ],
      "metadata": {
        "id": "b0JNsNcRphqO"
      }
    },
    {
      "cell_type": "markdown",
      "source": [
        "Answer Here"
      ],
      "metadata": {
        "id": "xvSq8iUTphqO"
      }
    },
    {
      "cell_type": "markdown",
      "source": [
        "#### Chart - 8"
      ],
      "metadata": {
        "id": "BZR9WyysphqO"
      }
    },
    {
      "cell_type": "code",
      "source": [
        "# Chart - 8 visualization code"
      ],
      "metadata": {
        "id": "TdPTWpAVphqO"
      },
      "execution_count": null,
      "outputs": []
    },
    {
      "cell_type": "markdown",
      "source": [
        "##### 1. Why did you pick the specific chart?"
      ],
      "metadata": {
        "id": "jj7wYXLtphqO"
      }
    },
    {
      "cell_type": "markdown",
      "source": [
        "Answer Here."
      ],
      "metadata": {
        "id": "Ob8u6rCTphqO"
      }
    },
    {
      "cell_type": "markdown",
      "source": [
        "##### 2. What is/are the insight(s) found from the chart?"
      ],
      "metadata": {
        "id": "eZrbJ2SmphqO"
      }
    },
    {
      "cell_type": "markdown",
      "source": [
        "Answer Here"
      ],
      "metadata": {
        "id": "mZtgC_hjphqO"
      }
    },
    {
      "cell_type": "markdown",
      "source": [
        "##### 3. Will the gained insights help creating a positive business impact?\n",
        "Are there any insights that lead to negative growth? Justify with specific reason."
      ],
      "metadata": {
        "id": "rFu4xreNphqO"
      }
    },
    {
      "cell_type": "markdown",
      "source": [
        "Answer Here"
      ],
      "metadata": {
        "id": "ey_0qi68phqO"
      }
    },
    {
      "cell_type": "markdown",
      "source": [
        "#### Chart - 9"
      ],
      "metadata": {
        "id": "YJ55k-q6phqO"
      }
    },
    {
      "cell_type": "code",
      "source": [
        "# Chart - 9 visualization code"
      ],
      "metadata": {
        "id": "B2aS4O1ophqO"
      },
      "execution_count": null,
      "outputs": []
    },
    {
      "cell_type": "markdown",
      "source": [
        "##### 1. Why did you pick the specific chart?"
      ],
      "metadata": {
        "id": "gCFgpxoyphqP"
      }
    },
    {
      "cell_type": "markdown",
      "source": [
        "Answer Here."
      ],
      "metadata": {
        "id": "TVxDimi2phqP"
      }
    },
    {
      "cell_type": "markdown",
      "source": [
        "##### 2. What is/are the insight(s) found from the chart?"
      ],
      "metadata": {
        "id": "OVtJsKN_phqQ"
      }
    },
    {
      "cell_type": "markdown",
      "source": [
        "Answer Here"
      ],
      "metadata": {
        "id": "ngGi97qjphqQ"
      }
    },
    {
      "cell_type": "markdown",
      "source": [
        "##### 3. Will the gained insights help creating a positive business impact?\n",
        "Are there any insights that lead to negative growth? Justify with specific reason."
      ],
      "metadata": {
        "id": "lssrdh5qphqQ"
      }
    },
    {
      "cell_type": "markdown",
      "source": [
        "Answer Here"
      ],
      "metadata": {
        "id": "tBpY5ekJphqQ"
      }
    },
    {
      "cell_type": "markdown",
      "source": [
        "#### Chart - 10"
      ],
      "metadata": {
        "id": "U2RJ9gkRphqQ"
      }
    },
    {
      "cell_type": "code",
      "source": [
        "# Chart - 10 visualization code"
      ],
      "metadata": {
        "id": "GM7a4YP4phqQ"
      },
      "execution_count": null,
      "outputs": []
    },
    {
      "cell_type": "markdown",
      "source": [
        "##### 1. Why did you pick the specific chart?"
      ],
      "metadata": {
        "id": "1M8mcRywphqQ"
      }
    },
    {
      "cell_type": "markdown",
      "source": [
        "Answer Here."
      ],
      "metadata": {
        "id": "8agQvks0phqQ"
      }
    },
    {
      "cell_type": "markdown",
      "source": [
        "##### 2. What is/are the insight(s) found from the chart?"
      ],
      "metadata": {
        "id": "tgIPom80phqQ"
      }
    },
    {
      "cell_type": "markdown",
      "source": [
        "Answer Here"
      ],
      "metadata": {
        "id": "Qp13pnNzphqQ"
      }
    },
    {
      "cell_type": "markdown",
      "source": [
        "##### 3. Will the gained insights help creating a positive business impact?\n",
        "Are there any insights that lead to negative growth? Justify with specific reason."
      ],
      "metadata": {
        "id": "JMzcOPDDphqR"
      }
    },
    {
      "cell_type": "markdown",
      "source": [
        "Answer Here"
      ],
      "metadata": {
        "id": "R4Ka1PC2phqR"
      }
    },
    {
      "cell_type": "markdown",
      "source": [
        "#### Chart - 11"
      ],
      "metadata": {
        "id": "x-EpHcCOp1ci"
      }
    },
    {
      "cell_type": "code",
      "source": [
        "# Chart - 11 visualization code"
      ],
      "metadata": {
        "id": "mAQTIvtqp1cj"
      },
      "execution_count": null,
      "outputs": []
    },
    {
      "cell_type": "markdown",
      "source": [
        "##### 1. Why did you pick the specific chart?"
      ],
      "metadata": {
        "id": "X_VqEhTip1ck"
      }
    },
    {
      "cell_type": "markdown",
      "source": [
        "Answer Here."
      ],
      "metadata": {
        "id": "-vsMzt_np1ck"
      }
    },
    {
      "cell_type": "markdown",
      "source": [
        "##### 2. What is/are the insight(s) found from the chart?"
      ],
      "metadata": {
        "id": "8zGJKyg5p1ck"
      }
    },
    {
      "cell_type": "markdown",
      "source": [
        "Answer Here"
      ],
      "metadata": {
        "id": "ZYdMsrqVp1ck"
      }
    },
    {
      "cell_type": "markdown",
      "source": [
        "##### 3. Will the gained insights help creating a positive business impact?\n",
        "Are there any insights that lead to negative growth? Justify with specific reason."
      ],
      "metadata": {
        "id": "PVzmfK_Ep1ck"
      }
    },
    {
      "cell_type": "markdown",
      "source": [
        "Answer Here"
      ],
      "metadata": {
        "id": "druuKYZpp1ck"
      }
    },
    {
      "cell_type": "markdown",
      "source": [
        "#### Chart - 12"
      ],
      "metadata": {
        "id": "n3dbpmDWp1ck"
      }
    },
    {
      "cell_type": "code",
      "source": [
        "# Chart - 12 visualization code"
      ],
      "metadata": {
        "id": "bwevp1tKp1ck"
      },
      "execution_count": null,
      "outputs": []
    },
    {
      "cell_type": "markdown",
      "source": [
        "##### 1. Why did you pick the specific chart?"
      ],
      "metadata": {
        "id": "ylSl6qgtp1ck"
      }
    },
    {
      "cell_type": "markdown",
      "source": [
        "Answer Here."
      ],
      "metadata": {
        "id": "m2xqNkiQp1ck"
      }
    },
    {
      "cell_type": "markdown",
      "source": [
        "##### 2. What is/are the insight(s) found from the chart?"
      ],
      "metadata": {
        "id": "ZWILFDl5p1ck"
      }
    },
    {
      "cell_type": "markdown",
      "source": [
        "Answer Here"
      ],
      "metadata": {
        "id": "x-lUsV2mp1ck"
      }
    },
    {
      "cell_type": "markdown",
      "source": [
        "##### 3. Will the gained insights help creating a positive business impact?\n",
        "Are there any insights that lead to negative growth? Justify with specific reason."
      ],
      "metadata": {
        "id": "M7G43BXep1ck"
      }
    },
    {
      "cell_type": "markdown",
      "source": [
        "Answer Here"
      ],
      "metadata": {
        "id": "5wwDJXsLp1cl"
      }
    },
    {
      "cell_type": "markdown",
      "source": [
        "#### Chart - 13"
      ],
      "metadata": {
        "id": "Ag9LCva-p1cl"
      }
    },
    {
      "cell_type": "code",
      "source": [
        "# Chart - 13 visualization code"
      ],
      "metadata": {
        "id": "EUfxeq9-p1cl"
      },
      "execution_count": null,
      "outputs": []
    },
    {
      "cell_type": "markdown",
      "source": [
        "##### 1. Why did you pick the specific chart?"
      ],
      "metadata": {
        "id": "E6MkPsBcp1cl"
      }
    },
    {
      "cell_type": "markdown",
      "source": [
        "Answer Here."
      ],
      "metadata": {
        "id": "V22bRsFWp1cl"
      }
    },
    {
      "cell_type": "markdown",
      "source": [
        "##### 2. What is/are the insight(s) found from the chart?"
      ],
      "metadata": {
        "id": "2cELzS2fp1cl"
      }
    },
    {
      "cell_type": "markdown",
      "source": [
        "Answer Here"
      ],
      "metadata": {
        "id": "ozQPc2_Ip1cl"
      }
    },
    {
      "cell_type": "markdown",
      "source": [
        "##### 3. Will the gained insights help creating a positive business impact?\n",
        "Are there any insights that lead to negative growth? Justify with specific reason."
      ],
      "metadata": {
        "id": "3MPXvC8up1cl"
      }
    },
    {
      "cell_type": "markdown",
      "source": [
        "Answer Here"
      ],
      "metadata": {
        "id": "GL8l1tdLp1cl"
      }
    },
    {
      "cell_type": "markdown",
      "source": [
        "#### Chart - 14 - Correlation Heatmap"
      ],
      "metadata": {
        "id": "NC_X3p0fY2L0"
      }
    },
    {
      "cell_type": "code",
      "source": [
        "# Correlation Heatmap visualization code"
      ],
      "metadata": {
        "id": "xyC9zolEZNRQ"
      },
      "execution_count": null,
      "outputs": []
    },
    {
      "cell_type": "markdown",
      "source": [
        "##### 1. Why did you pick the specific chart?"
      ],
      "metadata": {
        "id": "UV0SzAkaZNRQ"
      }
    },
    {
      "cell_type": "markdown",
      "source": [
        "Answer Here."
      ],
      "metadata": {
        "id": "DVPuT8LYZNRQ"
      }
    },
    {
      "cell_type": "markdown",
      "source": [
        "##### 2. What is/are the insight(s) found from the chart?"
      ],
      "metadata": {
        "id": "YPEH6qLeZNRQ"
      }
    },
    {
      "cell_type": "markdown",
      "source": [
        "Answer Here"
      ],
      "metadata": {
        "id": "bfSqtnDqZNRR"
      }
    },
    {
      "cell_type": "markdown",
      "source": [
        "#### Chart - 15 - Pair Plot"
      ],
      "metadata": {
        "id": "q29F0dvdveiT"
      }
    },
    {
      "cell_type": "code",
      "source": [
        "# Pair Plot visualization code"
      ],
      "metadata": {
        "id": "o58-TEIhveiU"
      },
      "execution_count": null,
      "outputs": []
    },
    {
      "cell_type": "markdown",
      "source": [
        "##### 1. Why did you pick the specific chart?"
      ],
      "metadata": {
        "id": "EXh0U9oCveiU"
      }
    },
    {
      "cell_type": "markdown",
      "source": [
        "Answer Here."
      ],
      "metadata": {
        "id": "eMmPjTByveiU"
      }
    },
    {
      "cell_type": "markdown",
      "source": [
        "##### 2. What is/are the insight(s) found from the chart?"
      ],
      "metadata": {
        "id": "22aHeOlLveiV"
      }
    },
    {
      "cell_type": "markdown",
      "source": [
        "Answer Here"
      ],
      "metadata": {
        "id": "uPQ8RGwHveiV"
      }
    },
    {
      "cell_type": "markdown",
      "source": [
        "## **5. Solution to Business Objective**"
      ],
      "metadata": {
        "id": "JcMwzZxoAimU"
      }
    },
    {
      "cell_type": "markdown",
      "source": [
        "#### What do you suggest the client to achieve Business Objective ?\n",
        "Explain Briefly."
      ],
      "metadata": {
        "id": "8G2x9gOozGDZ"
      }
    },
    {
      "cell_type": "markdown",
      "source": [
        "Answer Here."
      ],
      "metadata": {
        "id": "pASKb0qOza21"
      }
    },
    {
      "cell_type": "markdown",
      "source": [
        "# **Conclusion**"
      ],
      "metadata": {
        "id": "gCX9965dhzqZ"
      }
    },
    {
      "cell_type": "markdown",
      "source": [
        "Write the conclusion here."
      ],
      "metadata": {
        "id": "Fjb1IsQkh3yE"
      }
    },
    {
      "cell_type": "markdown",
      "source": [
        "### ***Hurrah! You have successfully completed your EDA Capstone Project !!!***"
      ],
      "metadata": {
        "id": "gIfDvo9L0UH2"
      }
    }
  ]
}